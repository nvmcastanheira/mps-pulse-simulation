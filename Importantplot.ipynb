{
 "cells": [
  {
   "cell_type": "code",
   "execution_count": 5,
   "metadata": {},
   "outputs": [
    {
     "name": "stdout",
     "output_type": "stream",
     "text": [
      "LBTConfig()\n",
      "10\n"
     ]
    },
    {
     "data": {
      "text/plain": [
       "gaussian_SH_pulse (generic function with 1 method)"
      ]
     },
     "metadata": {},
     "output_type": "display_data"
    }
   ],
   "source": [
    "using JLD\n",
    "using SparseArrays\n",
    "using LinearAlgebra\n",
    "using PyCall\n",
    "using TensorOperations\n",
    "using FFTW\n",
    "using DifferentialEquations\n",
    "using SpecialFunctions\n",
    "using MKL\n",
    "using QuadGK\n",
    "using Plots \n",
    "gspec=pyimport(\"matplotlib.gridspec\")\n",
    "patches=pyimport(\"matplotlib.patches\")\n",
    "mpimg=pyimport(\"matplotlib.image\")\n",
    "\n",
    "include(\"./src/twm_simulate.jl\")\n",
    "\n",
    "BLAS.set_num_threads(5)\n",
    "println(BLAS.get_config())\n",
    "println(Threads.nthreads())\n",
    "\n",
    "function gaussian_SH_pulse(zlist,σ)\n",
    "    vect = [exp(-(z/σ)^2/2) for z in zlist]\n",
    "    vect ./= norm(vect)\n",
    "    return vect\n",
    "end"
   ]
  },
  {
   "cell_type": "code",
   "execution_count": 7,
   "metadata": {},
   "outputs": [
    {
     "data": {
      "text/plain": [
       "1.9"
      ]
     },
     "metadata": {},
     "output_type": "display_data"
    }
   ],
   "source": [
    "L = 8.0   # Size of the system. Open boundary condition.\n",
    "n_half = 300   # Number of spatial bins per band. Total size of the MPS will be 2 times this number, because we have both signal and pump modes.\n",
    "n_l = n_half*2   # Total number of spatial bins.\n",
    "Δz = L/n_half   # Size of spatial bins\n",
    "klist = [2*pi*l/L for l in -floor(Int64,n_half/2):1:ceil(Int64,n_half/2)-1]   # Wavespace coordinate\n",
    "zlist = collect(range(-L/2,stop=L/2-Δz,length=n_half));   # Spatial coordinate\n",
    "    \n",
    "mmax = 4   # Maximum Fock space cutoff. 4 is usually enough.\n",
    "n_fock = 4   # Fock space cutoff\n",
    "χ = 10   # MPS bond dimension. Depends on the simulation.\n",
    "\n",
    "β = 2   # GVD for the pump mode, relative to the signal GVD.\n",
    "J = 1/(2*Δz^2)/(4pi^2)   # Nearnest-neighbor interactions between spatial bins. The value is proportionla to signal GVD.\n",
    "V = 1/sqrt(Δz)   # Nonlinear coupling between local signal and pump bins.\n",
    "Δ = 1.9   # Phase-mismatch between signal and pump\n",
    "\n",
    "\n"
   ]
  },
  {
   "cell_type": "code",
   "execution_count": null,
   "metadata": {},
   "outputs": [],
   "source": [
    "# using Trapz\n",
    "# efficiency = []\n",
    "# n_bs = [1/300, 0.02, 0.2, 2]\n",
    "# n_b = 0.02\n",
    "# tmax = 2.5\n",
    "# nt = 125 # Steps\n",
    "# saveat = [i for i in 1:2:nt]\n",
    "# th = 1e-10 # Truncation for SVD\n",
    "# α_a = 0.0\n",
    "# σ = 0.2\n",
    "\n",
    "# #for σ in σs\n",
    "#     #for n_b in n_bs   # Number of pump photons\n",
    "#         flist = gaussian_SH_pulse(zlist,σ)   # Pump field distribution\n",
    "\n",
    "#         F0 = maximum(flist)\n",
    "\n",
    "#         flist_a = [i%2==1 ? flist[round(Int64,(i+1)/2)] : 0.0im for i in 1:n_l]\n",
    "#         flist_a ./= norm(flist_a)\n",
    "#         flist_b = [i%2==0 ? flist[round(Int64,(i)/2)] : 0.0im for i in 1:n_l]\n",
    "#         flist_b ./= norm(flist_b)\n",
    "#         α_b = sqrt(n_b)\n",
    "#         αlist_tot = α_a*flist_a+α_b*flist_b\n",
    "#         Γlist,λlist = coherent_twm(α_a,α_b,flist_a,flist_b,n_l,χ,mmax);\n",
    "\n",
    "#         Γset,λset,norm_list = simulate_twm!(Γlist,λlist,J,β,V,Δ,tmax,nt,saveat;threshold=th);\n",
    "#         αset_a = [[mean(Γset[si],λset[si],ci) for ci in 1:2:n_l] for si in eachindex(saveat)]\n",
    "#         αset_b = [[mean(Γset[si],λset[si],ci) for ci in 2:2:n_l] for si in eachindex(saveat)]\n",
    "#         g1set_a = [[g1(Γset[si],λset[si],ci) for ci in 1:2:n_l] for si in eachindex(saveat)]\n",
    "#         g1set_b = [[g1(Γset[si],λset[si],ci) for ci in 2:2:n_l] for si in eachindex(saveat)];\n",
    "\n",
    "#         push!(efficiency, [trapz(zlist, real(g1set_a[i])) for i in 1:length(saveat)]/trapz(zlist, real(g1set_b[1]))/2)\n",
    "#     #end\n",
    "# #end\n"
   ]
  },
  {
   "cell_type": "code",
   "execution_count": null,
   "metadata": {},
   "outputs": [],
   "source": [
    "using Trapz\n",
    "efficiency = []\n",
    "n_bs = [1/300, 0.02, 0.2, 2]\n",
    "n_b = 0.02\n",
    "tmax = 2.5\n",
    "nt = 125 # Steps\n",
    "saveat = [i for i in 1:2:nt]\n",
    "th = 1e-10 # Truncation for SVD\n",
    "α_a = 0.0\n",
    "σ = 0.2\n",
    "\n",
    "#for σ in σs\n",
    "    #for n_b in n_bs   # Number of pump photons\n",
    "        flist = gaussian_SH_pulse(zlist,σ)   # Pump field distribution\n",
    "\n",
    "        F0 = maximum(flist)\n",
    "\n",
    "        flist_a = [i%2==1 ? flist[round(Int64,(i+1)/2)] : 0.0im for i in 1:n_l]\n",
    "        flist_a ./= norm(flist_a)\n",
    "        flist_b = [i%2==0 ? flist[round(Int64,(i)/2)] : 0.0im for i in 1:n_l]\n",
    "        flist_b ./= norm(flist_b)\n",
    "        α_b = sqrt(n_b)\n",
    "        αlist_tot = α_a*flist_a+α_b*flist_b\n",
    "        Γlist,λlist = coherent_twm(0,1,flist_a,flist_b,n_l,χ,mmax);\n",
    "    \n",
    "        Γset,λset,norm_list = simulate_twm!(Γlist,λlist,J,β,V,Δ,tmax,nt,saveat;threshold=th);\n",
    "        αset_a = [[mean(Γset[si],λset[si],ci) for ci in 1:2:n_l] for si in eachindex(saveat)]\n",
    "        αset_b = [[mean(Γset[si],λset[si],ci) for ci in 2:2:n_l] for si in eachindex(saveat)]\n",
    "        g1set_a = [[g1(Γset[si],λset[si],ci) for ci in 1:2:n_l] for si in eachindex(saveat)]\n",
    "        g1set_b = [[g1(Γset[si],λset[si],ci) for ci in 2:2:n_l] for si in eachindex(saveat)];\n",
    "\n",
    "        push!(efficiency, [trapz(zlist, real(g1set_a[i])) for i in 1:length(saveat)]/trapz(zlist, real(g1set_b[1]))/2)\n",
    "    #end\n",
    "#end"
   ]
  },
  {
   "cell_type": "code",
   "execution_count": null,
   "metadata": {},
   "outputs": [],
   "source": [
    "fock_twm(0,1,flist_a,flist_b,n_l,χ,mmax)[2][1]"
   ]
  },
  {
   "cell_type": "code",
   "execution_count": 6,
   "metadata": {},
   "outputs": [
    {
     "ename": "UndefVarError",
     "evalue": "UndefVarError: `α_a` not defined",
     "output_type": "error",
     "traceback": [
      "UndefVarError: `α_a` not defined\n",
      "\n",
      "Stacktrace:\n",
      " [1] top-level scope\n",
      "   @ c:\\Users\\14694\\Desktop\\code\\work\\MPS Stuff\\mps-pulse-simulation\\Importantplot.ipynb:1"
     ]
    }
   ],
   "source": [
    "coherent_twm(α_a, α_b, flist_a,flist_b,n_l,χ,mmax)[2][1]"
   ]
  },
  {
   "cell_type": "code",
   "execution_count": null,
   "metadata": {},
   "outputs": [],
   "source": [
    "t = range(0,2.5, length(efficiency[1]))\n",
    "p = plot(xlabel = \"gt\", ylabel = \"Conversion efficiency\")\n",
    "for i in 1:1\n",
    "    if i == 1\n",
    "        plot!(t, efficiency[i] .^2, label = \"n̄ = Single-Photon Pump\")\n",
    "    else\n",
    "        plot!(t, efficiency[i] .^2, label = \"n̄ = $(n_bs[i])\")\n",
    "    end\n",
    "end\n",
    "display(p)\n",
    "#savefig(\"Figures/Use\")"
   ]
  }
 ],
 "metadata": {
  "kernelspec": {
   "display_name": "Julia 1.9.0",
   "language": "julia",
   "name": "julia-1.9"
  },
  "language_info": {
   "file_extension": ".jl",
   "mimetype": "application/julia",
   "name": "julia",
   "version": "1.9.0"
  }
 },
 "nbformat": 4,
 "nbformat_minor": 2
}
