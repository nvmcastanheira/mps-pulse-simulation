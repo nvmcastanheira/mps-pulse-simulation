{
 "cells": [
  {
   "cell_type": "code",
   "execution_count": 4,
   "metadata": {},
   "outputs": [
    {
     "data": {
      "text/plain": [
       "simulate_twm (generic function with 1 method)"
      ]
     },
     "metadata": {},
     "output_type": "display_data"
    }
   ],
   "source": [
    "using JLD\n",
    "using SparseArrays\n",
    "using LinearAlgebra\n",
    "using PyPlot\n",
    "using PyCall\n",
    "using TensorOperations\n",
    "using FFTW\n",
    "using DifferentialEquations\n",
    "using SpecialFunctions\n",
    "# using MKL\n",
    "using QuadGK\n",
    "\n",
    "gspec=pyimport(\"matplotlib.gridspec\")\n",
    "patches=pyimport(\"matplotlib.patches\")\n",
    "mpimg=pyimport(\"matplotlib.image\")\n",
    "\n",
    "include(\"./src/twm_simulate.jl\")"
   ]
  },
  {
   "cell_type": "code",
   "execution_count": 19,
   "metadata": {},
   "outputs": [
    {
     "name": "stdout",
     "output_type": "stream",
     "text": [
      "LBTConfig([ILP64] libopenblas64_.dll)\n",
      "1\n"
     ]
    }
   ],
   "source": [
    "BLAS.set_num_threads(1)\n",
    "println(BLAS.get_config())\n",
    "println(Threads.nthreads())"
   ]
  },
  {
   "cell_type": "code",
   "execution_count": 20,
   "metadata": {},
   "outputs": [
    {
     "data": {
      "text/plain": [
       "gaussian_SH_pulse (generic function with 1 method)"
      ]
     },
     "metadata": {},
     "output_type": "display_data"
    }
   ],
   "source": [
    "function gaussian_SH_pulse(zlist,σ)\n",
    "    vect = [exp(-(z/σ)^2/2) for z in zlist]\n",
    "    vect ./= norm(vect)\n",
    "    return vect\n",
    "end"
   ]
  },
  {
   "cell_type": "code",
   "execution_count": 21,
   "metadata": {},
   "outputs": [
    {
     "data": {
      "text/plain": [
       "1-element Vector{PyObject}:\n",
       " PyObject <matplotlib.lines.Line2D object at 0x0000019136959EA0>"
      ]
     },
     "metadata": {},
     "output_type": "display_data"
    }
   ],
   "source": [
    "L = 8.0   # Size of the system. Open boundary condition.\n",
    "n_half = 300   # Number of spatial bins per band. Total size of the MPS will be 2 times this number, because we have both signal and pump modes.\n",
    "n_l = n_half*2   # Total number of spatial bins.\n",
    "Δz = L/n_half   # Size of spatial bins\n",
    "klist = [2*pi*l/L for l in -floor(Int64,n_half/2):1:ceil(Int64,n_half/2)-1]   # Wavespace coordinate\n",
    "zlist = collect(range(-L/2,stop=L/2-Δz,length=n_half));   # Spatial coordinate\n",
    "    \n",
    "mmax = 4   # Maximum Fock space cutoff. 4 is usually enough.\n",
    "n_fock = 4   # Fock space cutoff\n",
    "χ = 20   # MPS bond dimension. Depends on the simulation.\n",
    "\n",
    "β = 0.5   # GVD for the pump mode, relative to the signal GVD.\n",
    "J = 1/(2*Δz^2)/(4pi^2)   # Nearnest-neighbor interactions between spatial bins. The value is proportionla to signal GVD.\n",
    "V = 1/sqrt(Δz)   # Nonlinear coupling between local signal and pump bins.\n",
    "Δ = 1.9   # Phase-mismatch between signal and pump\n",
    "\n",
    "n_b = 0.02   # Number of pump photons\n",
    "σ = 0.2   # Pump width in the temporal domain\n",
    "\n",
    "flist = gaussian_SH_pulse(zlist,σ)   # Pump field distribution\n",
    "\n",
    "flist_a = [i%2==1 ? flist[round(Int64,(i+1)/2)] : 0.0im for i in 1:n_l]\n",
    "flist_a ./= norm(flist_a)\n",
    "flist_b = [i%2==0 ? flist[round(Int64,(i)/2)] : 0.0im for i in 1:n_l]\n",
    "flist_b ./= norm(flist_b)\n",
    "α_a = 0.0\n",
    "α_b = sqrt(n_b)\n",
    "\n",
    "αlist_tot = α_a*flist_a+α_b*flist_b\n",
    "plot(zlist,flist)"
   ]
  },
  {
   "cell_type": "code",
   "execution_count": 22,
   "metadata": {},
   "outputs": [],
   "source": [
    "Γlist,λlist = coherent_twm(α_a,α_b,flist_a,flist_b,n_l,χ,mmax);"
   ]
  },
  {
   "cell_type": "code",
   "execution_count": 23,
   "metadata": {},
   "outputs": [
    {
     "name": "stdout",
     "output_type": "stream",
     "text": [
      "1\n",
      " 15.717660 seconds (1.65 M allocations: 1.765 GiB, 1.43% gc time)\n",
      " 17.095702 seconds (2.11 M allocations: 1.776 GiB, 1.10% gc time)\n",
      "2\n",
      " 16.797494 seconds (2.34 M allocations: 1.782 GiB, 1.14% gc time)\n",
      " 16.206144 seconds (2.56 M allocations: 1.787 GiB, 1.18% gc time)\n",
      "3\n",
      " 16.776204 seconds (2.72 M allocations: 1.791 GiB, 1.13% gc time)\n",
      " 18.768162 seconds (2.92 M allocations: 1.796 GiB, 1.13% gc time)\n",
      "4\n",
      " 16.227123 seconds (3.01 M allocations: 1.799 GiB, 1.30% gc time)\n",
      " 16.335692 seconds (3.13 M allocations: 1.801 GiB, 1.26% gc time)\n",
      "5\n",
      " 16.187704 seconds (3.19 M allocations: 1.803 GiB, 1.33% gc time)\n",
      " 16.981865 seconds (3.28 M allocations: 1.805 GiB, 1.19% gc time)\n",
      "6\n",
      " 15.240447 seconds (3.34 M allocations: 1.807 GiB, 1.32% gc time)\n",
      " 16.950466 seconds (3.42 M allocations: 1.809 GiB, 1.69% gc time)\n",
      "7\n",
      " 28.477220 seconds (3.46 M allocations: 1.810 GiB, 1.05% gc time)\n",
      " 18.028247 seconds (3.52 M allocations: 1.811 GiB, 1.12% gc time)\n",
      "8\n",
      " 18.152016 seconds (3.57 M allocations: 1.812 GiB, 1.19% gc time)\n",
      " 17.053564 seconds (3.65 M allocations: 1.814 GiB, 1.35% gc time)\n",
      "9\n",
      " 17.688724 seconds (3.69 M allocations: 1.815 GiB, 1.32% gc time)\n",
      " 15.481136 seconds (3.75 M allocations: 1.817 GiB, 1.83% gc time)\n",
      "10\n",
      " 16.573542 seconds (3.78 M allocations: 1.818 GiB, 1.68% gc time)\n",
      " 14.691658 seconds (3.83 M allocations: 1.819 GiB, 1.44% gc time)\n"
     ]
    }
   ],
   "source": [
    "tmax = 0.1\n",
    "nt = 10 # Steps\n",
    "saveat = [1, 2, 3, 4, 5, 6, 7, 8, 9, 10] \n",
    "th = 1e-10 # Truncation for SVD\n",
    "\n",
    "Γset,λset,norm_list = simulate_twm!(Γlist,λlist,J,β,V,Δ,tmax,nt,saveat;threshold=th);"
   ]
  },
  {
   "cell_type": "code",
   "execution_count": 10,
   "metadata": {},
   "outputs": [
    {
     "data": {
      "text/plain": [
       "1-element Vector{PyObject}:\n",
       " PyObject <matplotlib.lines.Line2D object at 0x00000191369584C0>"
      ]
     },
     "metadata": {},
     "output_type": "display_data"
    }
   ],
   "source": [
    "plot(1 .- norm_list)"
   ]
  },
  {
   "cell_type": "code",
   "execution_count": 11,
   "metadata": {},
   "outputs": [],
   "source": [
    "Γfin = Γset[2]\n",
    "λfin = λset[2];"
   ]
  },
  {
   "cell_type": "code",
   "execution_count": 12,
   "metadata": {},
   "outputs": [
    {
     "data": {
      "text/plain": [
       "0.0 + 0.0im"
      ]
     },
     "metadata": {},
     "output_type": "display_data"
    }
   ],
   "source": [
    "mean(Γset[2],λset[2],51)"
   ]
  },
  {
   "cell_type": "code",
   "execution_count": 13,
   "metadata": {},
   "outputs": [
    {
     "data": {
      "text/plain": [
       "0.0 + 0.0im"
      ]
     },
     "metadata": {},
     "output_type": "display_data"
    }
   ],
   "source": [
    "g1(Γset[2],λset[2],50)"
   ]
  },
  {
   "cell_type": "code",
   "execution_count": 14,
   "metadata": {},
   "outputs": [],
   "source": [
    "αset_a = [[mean(Γset[si],λset[si],ci) for ci in 1:2:n_l] for si in eachindex(saveat)]\n",
    "αset_b = [[mean(Γset[si],λset[si],ci) for ci in 2:2:n_l] for si in eachindex(saveat)]\n",
    "g1set_a = [[g1(Γset[si],λset[si],ci) for ci in 1:2:n_l] for si in eachindex(saveat)]\n",
    "g1set_b = [[g1(Γset[si],λset[si],ci) for ci in 2:2:n_l] for si in eachindex(saveat)];"
   ]
  },
  {
   "cell_type": "code",
   "execution_count": 15,
   "metadata": {},
   "outputs": [
    {
     "name": "stderr",
     "output_type": "stream",
     "text": [
      "C:\\Users\\14694\\.julia\\conda\\3\\x86_64\\lib\\site-packages\\matplotlib\\cbook.py:1699: ComplexWarning: Casting complex values to real discards the imaginary part\n",
      "  return math.isfinite(val)\n",
      "C:\\Users\\14694\\.julia\\conda\\3\\x86_64\\lib\\site-packages\\matplotlib\\cbook.py:1345: ComplexWarning: Casting complex values to real discards the imaginary part\n",
      "  return np.asarray(x, float)\n"
     ]
    },
    {
     "data": {
      "text/plain": [
       "1-element Vector{PyObject}:\n",
       " PyObject <matplotlib.lines.Line2D object at 0x0000019136958B20>"
      ]
     },
     "metadata": {},
     "output_type": "display_data"
    }
   ],
   "source": [
    "plot([sum(g1a) for g1a in g1set_a])"
   ]
  },
  {
   "cell_type": "code",
   "execution_count": 16,
   "metadata": {},
   "outputs": [
    {
     "data": {
      "text/plain": [
       "1-element Vector{PyObject}:\n",
       " PyObject <matplotlib.lines.Line2D object at 0x0000019136958D90>"
      ]
     },
     "metadata": {},
     "output_type": "display_data"
    }
   ],
   "source": [
    "plot([sum(g1b) for g1b in g1set_b])"
   ]
  },
  {
   "cell_type": "code",
   "execution_count": 17,
   "metadata": {},
   "outputs": [
    {
     "data": {
      "text/plain": [
       "1-element Vector{PyObject}:\n",
       " PyObject <matplotlib.lines.Line2D object at 0x0000019136959420>"
      ]
     },
     "metadata": {},
     "output_type": "display_data"
    }
   ],
   "source": [
    "plot(zlist,g1set_b[2],label=\"Pump\")\n",
    "plot(zlist,g1set_a[2],label=\"Signal\")"
   ]
  },
  {
   "cell_type": "code",
   "execution_count": 18,
   "metadata": {},
   "outputs": [
    {
     "ename": "UndefVarError",
     "evalue": "UndefVarError: `path_list` not defined",
     "output_type": "error",
     "traceback": [
      "UndefVarError: `path_list` not defined\n",
      "\n",
      "Stacktrace:\n",
      " [1] top-level scope\n",
      "   @ c:\\Users\\14694\\Desktop\\code\\work\\MPS Stuff\\mps-pulse-simulation\\MPS-simulation.ipynb:1"
     ]
    }
   ],
   "source": [
    "for (i,path) in enumerate(path_list)\n",
    "    d = load(path)\n",
    "    param_set = d[\"param_set\"]\n",
    "    g1set_a = d[\"g1set_a\"]\n",
    "    g1set_b = d[\"g1set_b\"]\n",
    "    tlist = vcat([0],param_set[\"saveat\"].*param_set[\"tmax\"]./param_set[\"nt\"]);\n",
    "    zlist = param_set[\"zlist\"];\n",
    "    α_b = param_set[\"α_b\"]\n",
    "    flist_b = param_set[\"flist_b\"]\n",
    "    nb0_list[i] = param_set[\"n_b\"]\n",
    "    \n",
    "    tlist_list[i] = tlist\n",
    "    zlist_list[i] = zlist\n",
    "    \n",
    "    g1set_a = vcat([zeros(length(zlist))],g1set_a)\n",
    "    g1set_b = vcat([abs2.(α_b.*flist_b)[2:2:end]],g1set_b)\n",
    "    \n",
    "    namat = zeros(length(tlist),length(zlist))\n",
    "    nbmat = zeros(length(tlist),length(zlist))\n",
    "    \n",
    "    for (ti,t) in enumerate(tlist)\n",
    "        for (zi,z) in enumerate(zlist)\n",
    "            namat[ti,zi] = real(g1set_a[ti][zi])\n",
    "            nbmat[ti,zi] = real(g1set_b[ti][zi])\n",
    "        end\n",
    "    end\n",
    "    \n",
    "    namat_list[i] = namat\n",
    "    nbmat_list[i] = nbmat\n",
    "    \n",
    "end"
   ]
  },
  {
   "cell_type": "markdown",
   "metadata": {},
   "source": [
    "# Gaussian pulse PDC"
   ]
  },
  {
   "cell_type": "code",
   "execution_count": 3,
   "metadata": {},
   "outputs": [
    {
     "data": {
      "text/plain": [
       "simulate_pdc (generic function with 1 method)"
      ]
     },
     "execution_count": 3,
     "metadata": {},
     "output_type": "execute_result"
    }
   ],
   "source": [
    "function simulate_pdc(param_set,savepath)\n",
    "    L = param_set[\"L\"]\n",
    "    n_l = param_set[\"n_l\"]\n",
    "    n_half = param_set[\"n_half\"]\n",
    "    mmax = param_set[\"mmax\"]\n",
    "    χ = param_set[\"χ\"]\n",
    "    J = param_set[\"J\"]\n",
    "    V = param_set[\"V\"]\n",
    "    β = param_set[\"β\"]\n",
    "    Δ = param_set[\"Δ\"]\n",
    "    α_a = param_set[\"α_a\"]\n",
    "    α_b = param_set[\"α_b\"]\n",
    "    flist_a = param_set[\"flist_a\"]\n",
    "    flist_b = param_set[\"flist_b\"]\n",
    "    nt = param_set[\"nt\"]\n",
    "    saveat = param_set[\"saveat\"]\n",
    "    th = param_set[\"th\"]\n",
    "    tmax = param_set[\"tmax\"]\n",
    "    \n",
    "    Γlist,λlist = coherent_twm(α_a,α_b,flist_a,flist_b,n_l,χ,mmax);\n",
    "    Γset,λset,norm_list = simulate_twm!(Γlist,λlist,J,β,V,Δ,tmax,nt,saveat;threshold=th);\n",
    "    \n",
    "    αset_a = [[mean(Γset[si],λset[si],ci) for ci in 1:2:n_l] for si in eachindex(saveat)]\n",
    "    αset_b = [[mean(Γset[si],λset[si],ci) for ci in 2:2:n_l] for si in eachindex(saveat)]\n",
    "    g1set_a = [[g1(Γset[si],λset[si],ci) for ci in 1:2:n_l] for si in eachindex(saveat)]\n",
    "    g1set_b = [[g1(Γset[si],λset[si],ci) for ci in 2:2:n_l] for si in eachindex(saveat)]\n",
    "\n",
    "    \n",
    "    save(savepath,\"param_set\",param_set,\"αset_a\",αset_a,\"αset_b\",αset_b,\"g1set_a\",g1set_a,\"g1set_b\",g1set_b,\"norm_list\",norm_list)\n",
    "end"
   ]
  },
  {
   "cell_type": "code",
   "execution_count": 4,
   "metadata": {},
   "outputs": [
    {
     "data": {
      "text/plain": [
       "broadband_pump (generic function with 1 method)"
      ]
     },
     "execution_count": 4,
     "metadata": {},
     "output_type": "execute_result"
    }
   ],
   "source": [
    "function meson_energy(ξ;itr=50,λmax=1e3,λmin=0)\n",
    "    f(λ) = λ + ξ -pi/(2sqrt(λ))\n",
    "    \n",
    "    λsup = λmax\n",
    "    λinf = λmin\n",
    "    for i in 1:itr\n",
    "        λmid = (λsup + λinf)/2\n",
    "        if f(λsup)*f(λmid)<0\n",
    "            λinf = λmid\n",
    "        else\n",
    "            λsup = λmid\n",
    "        end\n",
    "    end\n",
    "    return (λsup + λinf)/2\n",
    "end\n",
    "\n",
    "function broadband_pump(ξ,τ;λmax=1e4,rtol=1e-4)\n",
    "    λm = meson_energy(ξ)\n",
    "    f(λ) = exp(-im*(λ+λm)*τ)*2sqrt(λ)/(pi^2+4λ*(λ-ξ)^2)\n",
    "    return abs2((1+pi/(4*λm^(3/2)))^(-1)+quadgk(f,0,λmax,rtol=rtol)[1])\n",
    "end"
   ]
  },
  {
   "cell_type": "code",
   "execution_count": 5,
   "metadata": {},
   "outputs": [
    {
     "data": {
      "text/plain": [
       "gaussian_SH_pulse (generic function with 1 method)"
      ]
     },
     "execution_count": 5,
     "metadata": {},
     "output_type": "execute_result"
    }
   ],
   "source": [
    "function gaussian_SH_pulse(zlist,σ)\n",
    "    vect = [exp(-(z/σ)^2/2) for z in zlist]\n",
    "    vect ./= norm(vect)\n",
    "    return vect\n",
    "end"
   ]
  },
  {
   "cell_type": "code",
   "execution_count": 14,
   "metadata": {},
   "outputs": [
    {
     "data": {
      "image/png": "[encoded data removed]",
      "text/plain": [
       "Figure(PyObject <Figure size 640x480 with 1 Axes>)"
      ]
     },
     "metadata": {},
     "output_type": "display_data"
    },
    {
     "data": {
      "text/plain": [
       "1-element Vector{PyObject}:\n",
       " PyObject <matplotlib.lines.Line2D object at 0x7f11e74c9f10>"
      ]
     },
     "execution_count": 14,
     "metadata": {},
     "output_type": "execute_result"
    }
   ],
   "source": [
    "L = 8.0\n",
    "n_half = 300\n",
    "n_l = n_half*2\n",
    "Δz = L/n_half\n",
    "klist = [2*pi*l/L for l in -floor(Int64,n_half/2):1:ceil(Int64,n_half/2)-1]\n",
    "zlist = collect(range(-L/2,stop=L/2-Δz,length=n_half));\n",
    "\n",
    "mmax = 4\n",
    "n_fock = 4\n",
    "χ = 60\n",
    "\n",
    "β = 0.5\n",
    "J = 1/(2*Δz^2)/(4pi^2)\n",
    "V = 1/sqrt(Δz)\n",
    "Δ = 1.9\n",
    "\n",
    "n_b = 0.02\n",
    "σ = 0.2\n",
    "\n",
    "flist = gaussian_SH_pulse(zlist,σ)\n",
    "\n",
    "\n",
    "flist_a = [i%2==1 ? flist[round(Int64,(i+1)/2)] : 0.0im for i in 1:n_l]\n",
    "flist_a ./= norm(flist_a)\n",
    "flist_b = [i%2==0 ? flist[round(Int64,(i)/2)] : 0.0im for i in 1:n_l]\n",
    "flist_b ./= norm(flist_b)\n",
    "α_a = 0.0\n",
    "α_b = sqrt(n_b)\n",
    "\n",
    "αlist_tot = α_a*flist_a+α_b*flist_b\n",
    "plot(zlist,flist)"
   ]
  },
  {
   "cell_type": "code",
   "execution_count": 15,
   "metadata": {},
   "outputs": [
    {
     "data": {
      "image/png": "[encoded data removed]",
      "text/plain": [
       "Figure(PyObject <Figure size 640x480 with 1 Axes>)"
      ]
     },
     "metadata": {},
     "output_type": "display_data"
    },
    {
     "data": {
      "text/plain": [
       "1-element Vector{PyObject}:\n",
       " PyObject <matplotlib.lines.Line2D object at 0x7f11ee1d1400>"
      ]
     },
     "execution_count": 15,
     "metadata": {},
     "output_type": "execute_result"
    }
   ],
   "source": [
    "semilogy(fftshift(fft(fftshift(flist))))"
   ]
  },
  {
   "cell_type": "code",
   "execution_count": 16,
   "metadata": {
    "scrolled": true
   },
   "outputs": [
    {
     "name": "stdout",
     "output_type": "stream",
     "text": [
      "[10, 20, 30, 40, 50, 60, 70, 80, 90, 100, 110, 120, 130, 140, 150, 160, 170, 180, 190, 200, 210, 220, 230, 240, 250, 260, 270, 280, 290, 300, 310, 320, 330, 340, 350, 360, 370, 380, 390, 400]\n"
     ]
    },
    {
     "data": {
      "text/plain": [
       "1.0e-10"
      ]
     },
     "execution_count": 16,
     "metadata": {},
     "output_type": "execute_result"
    }
   ],
   "source": [
    "nt = 400\n",
    "tmax = 2.8\n",
    "saveat = [10*k for k in 1:40]\n",
    "println(saveat)\n",
    "\n",
    "th = 1e-10"
   ]
  },
  {
   "cell_type": "code",
   "execution_count": 17,
   "metadata": {},
   "outputs": [],
   "source": [
    "param_set = Dict([])\n",
    "param_set[\"L\"] = L\n",
    "param_set[\"n_l\"] = n_l\n",
    "param_set[\"n_half\"] = n_half\n",
    "param_set[\"mmax\"] = mmax\n",
    "param_set[\"χ\"] = χ\n",
    "param_set[\"J\"] = J\n",
    "param_set[\"V\"] = V\n",
    "param_set[\"β\"] = β\n",
    "param_set[\"Δ\"] = Δ\n",
    "param_set[\"n_b\"] = n_b\n",
    "param_set[\"α_a\"] = α_a\n",
    "param_set[\"α_b\"] = α_b\n",
    "param_set[\"flist_a\"] = flist_a\n",
    "param_set[\"flist_b\"] = flist_b\n",
    "param_set[\"nt\"] = nt\n",
    "param_set[\"saveat\"] = saveat\n",
    "param_set[\"th\"] = th\n",
    "param_set[\"tmax\"] = tmax\n",
    "param_set[\"σ\"] = σ\n",
    "param_set[\"klist\"] = klist\n",
    "param_set[\"zlist\"] = zlist;\n",
    "param_set[\"n_fock\"] = n_fock\n",
    "param_set[\"αlist_tot\"] = αlist_tot;\n",
    "    "
   ]
  },
  {
   "cell_type": "code",
   "execution_count": 18,
   "metadata": {
    "scrolled": true
   },
   "outputs": [
    {
     "name": "stdout",
     "output_type": "stream",
     "text": [
      "1\n",
      "  2.914357 seconds (7.68 M allocations: 13.369 GiB, 31.71% gc time)\n",
      "  1.789195 seconds (8.85 M allocations: 13.399 GiB)\n",
      "2\n",
      "  1.843891 seconds (9.37 M allocations: 13.412 GiB)\n",
      "  2.457909 seconds (9.85 M allocations: 13.424 GiB, 13.74% gc time)\n",
      "3\n",
      "  1.138075 seconds (10.15 M allocations: 13.348 GiB)\n",
      "  1.196407 seconds (10.56 M allocations: 13.442 GiB)\n",
      "4\n",
      "  1.504750 seconds (10.82 M allocations: 12.062 GiB, 21.60% gc time)\n",
      "  1.158211 seconds (11.32 M allocations: 12.301 GiB)\n",
      "5\n",
      "  1.255820 seconds (11.69 M allocations: 13.470 GiB)\n",
      "  1.620895 seconds (12.04 M allocations: 13.478 GiB)\n",
      "6\n",
      "  2.088782 seconds (12.36 M allocations: 13.486 GiB)\n",
      "  2.153137 seconds (12.84 M allocations: 13.497 GiB)\n",
      "7\n",
      "  1.796538 seconds (13.16 M allocations: 13.440 GiB, 37.05% gc time)\n",
      "  1.216816 seconds (13.61 M allocations: 13.517 GiB)\n",
      "8\n",
      "  1.290078 seconds (13.94 M allocations: 13.525 GiB)\n",
      "  1.304465 seconds (14.50 M allocations: 13.539 GiB)\n",
      "9\n",
      "  1.927034 seconds (14.85 M allocations: 13.548 GiB)\n",
      "  2.169279 seconds (15.40 M allocations: 13.561 GiB)\n",
      "10\n",
      "  1.916584 seconds (15.85 M allocations: 13.511 GiB, 38.05% gc time)\n",
      "  1.203950 seconds (16.36 M allocations: 13.585 GiB)\n",
      "11\n",
      "  1.259869 seconds (16.74 M allocations: 13.594 GiB)\n",
      "  1.304460 seconds (17.29 M allocations: 13.608 GiB)\n",
      "12\n",
      "  1.291709 seconds (17.64 M allocations: 13.617 GiB)\n",
      "  1.793804 seconds (18.23 M allocations: 13.632 GiB)\n",
      "13\n",
      "  2.196380 seconds (18.60 M allocations: 13.641 GiB)\n",
      "  2.210321 seconds (19.11 M allocations: 13.653 GiB)\n",
      "14\n",
      "  2.463688 seconds (19.40 M allocations: 13.610 GiB, 49.51% gc time)\n",
      "  1.250216 seconds (19.81 M allocations: 13.671 GiB)\n",
      "15\n",
      "  1.297717 seconds (20.08 M allocations: 13.677 GiB)\n",
      "  1.320596 seconds (20.49 M allocations: 13.688 GiB)\n",
      "16\n",
      "  1.294509 seconds (20.65 M allocations: 13.692 GiB)\n",
      "  1.325495 seconds (20.96 M allocations: 13.699 GiB)\n",
      "17\n",
      "  2.055604 seconds (21.18 M allocations: 13.705 GiB)\n",
      "  2.338846 seconds (21.46 M allocations: 13.712 GiB)\n",
      "18\n",
      "  2.904109 seconds (21.66 M allocations: 13.647 GiB, 56.44% gc time)\n",
      "  1.222364 seconds (21.95 M allocations: 13.724 GiB)\n",
      "19\n",
      "  1.253332 seconds (22.12 M allocations: 13.728 GiB)\n",
      "  1.260909 seconds (22.40 M allocations: 13.735 GiB)\n",
      "20\n",
      "  1.281496 seconds (22.59 M allocations: 13.740 GiB)\n",
      "  1.357507 seconds (22.89 M allocations: 13.748 GiB)\n",
      "21\n",
      "  1.335303 seconds (23.01 M allocations: 13.750 GiB)\n",
      "  1.293526 seconds (23.26 M allocations: 13.756 GiB)\n",
      "22\n",
      "  2.807908 seconds (23.40 M allocations: 13.688 GiB, 55.28% gc time)\n",
      "  1.242089 seconds (23.61 M allocations: 13.765 GiB)\n",
      "23\n",
      "  1.274497 seconds (23.74 M allocations: 13.768 GiB)\n",
      "  1.858123 seconds (24.00 M allocations: 13.775 GiB, 32.22% gc time)\n",
      "24\n",
      "  1.321793 seconds (24.17 M allocations: 13.725 GiB)\n",
      "  1.243364 seconds (24.40 M allocations: 13.785 GiB)\n",
      "25\n",
      "  1.687792 seconds (24.47 M allocations: 12.401 GiB, 26.79% gc time)\n",
      "  1.249133 seconds (24.69 M allocations: 12.619 GiB)\n",
      "26\n",
      "  1.287326 seconds (24.89 M allocations: 13.797 GiB)\n",
      "  1.818116 seconds (25.15 M allocations: 13.804 GiB, 31.91% gc time)\n",
      "27\n",
      "  1.239263 seconds (25.24 M allocations: 13.744 GiB)\n",
      "  1.244783 seconds (25.42 M allocations: 13.810 GiB)\n",
      "28\n",
      "  1.683344 seconds (25.49 M allocations: 12.426 GiB, 26.27% gc time)\n",
      "  1.242725 seconds (25.70 M allocations: 12.642 GiB)\n",
      "29\n",
      "  1.256186 seconds (25.88 M allocations: 13.821 GiB)\n",
      "  1.268046 seconds (26.06 M allocations: 13.826 GiB)\n",
      "30\n",
      "  2.048134 seconds (26.18 M allocations: 13.765 GiB, 38.34% gc time)\n",
      "  1.248292 seconds (26.36 M allocations: 13.834 GiB)\n",
      "31\n",
      "  1.258500 seconds (26.49 M allocations: 13.836 GiB)\n",
      "  2.251467 seconds (26.64 M allocations: 13.840 GiB, 44.62% gc time)\n",
      "32\n",
      "  1.267162 seconds (26.75 M allocations: 13.787 GiB)\n",
      "  1.242566 seconds (26.97 M allocations: 13.849 GiB)\n",
      "33\n",
      "  1.263896 seconds (27.01 M allocations: 13.849 GiB)\n",
      "  1.205816 seconds (27.17 M allocations: 13.854 GiB)\n",
      "34\n",
      "  1.248687 seconds (27.29 M allocations: 13.856 GiB)\n",
      "  2.273490 seconds (27.44 M allocations: 13.860 GiB, 45.30% gc time)\n",
      "35\n",
      "  1.231441 seconds (27.55 M allocations: 13.790 GiB)\n",
      "  1.230537 seconds (27.73 M allocations: 13.867 GiB)\n",
      "36\n",
      "  1.692886 seconds (27.75 M allocations: 12.483 GiB, 28.10% gc time)\n",
      "  1.238908 seconds (27.89 M allocations: 12.697 GiB)\n",
      "37\n",
      "  1.225295 seconds (28.04 M allocations: 13.875 GiB)\n",
      "  1.250002 seconds (28.20 M allocations: 13.879 GiB)\n",
      "38\n",
      "  1.201352 seconds (28.29 M allocations: 13.881 GiB)\n",
      "  1.218892 seconds (28.45 M allocations: 13.886 GiB)\n",
      "39\n",
      "  2.326525 seconds (28.48 M allocations: 13.805 GiB, 45.21% gc time)\n",
      "  1.233739 seconds (28.64 M allocations: 13.890 GiB)\n",
      "40\n",
      "  1.218158 seconds (28.73 M allocations: 13.892 GiB)\n",
      "  1.213676 seconds (28.85 M allocations: 13.895 GiB)\n",
      "41\n",
      "  1.202990 seconds (28.93 M allocations: 13.897 GiB)\n",
      "  2.259777 seconds (29.06 M allocations: 13.900 GiB, 46.28% gc time)\n",
      "42\n",
      "  1.230355 seconds (29.16 M allocations: 13.835 GiB)\n",
      "  1.247890 seconds (29.31 M allocations: 13.907 GiB)\n",
      "43\n",
      "  1.212976 seconds (29.38 M allocations: 13.908 GiB)\n",
      "  1.194315 seconds (29.53 M allocations: 13.913 GiB)\n",
      "44\n",
      "  1.211524 seconds (29.55 M allocations: 13.912 GiB)\n",
      "  2.358126 seconds (29.69 M allocations: 13.916 GiB, 48.16% gc time)\n",
      "45\n",
      "  1.227351 seconds (29.79 M allocations: 13.843 GiB)\n",
      "  1.204955 seconds (29.92 M allocations: 13.922 GiB)\n",
      "46\n",
      "  1.210604 seconds (29.99 M allocations: 13.924 GiB)\n",
      "  1.205795 seconds (30.11 M allocations: 13.926 GiB)\n",
      "47\n",
      "  1.259374 seconds (30.16 M allocations: 13.928 GiB)\n",
      "  2.372133 seconds (30.27 M allocations: 13.930 GiB, 48.66% gc time)\n",
      "48\n",
      "  1.213884 seconds (30.36 M allocations: 13.857 GiB)\n",
      "  1.220645 seconds (30.53 M allocations: 13.938 GiB)\n",
      "49\n",
      "  1.238780 seconds (30.53 M allocations: 13.937 GiB)\n",
      "  1.214189 seconds (30.65 M allocations: 13.940 GiB)\n",
      "50\n",
      "  1.201448 seconds (30.74 M allocations: 13.942 GiB)\n",
      "  2.398425 seconds (30.89 M allocations: 13.946 GiB, 48.73% gc time)\n",
      "51\n",
      "  1.223073 seconds (30.97 M allocations: 13.872 GiB)\n",
      "  1.217613 seconds (31.06 M allocations: 13.950 GiB)\n",
      "52\n",
      "  1.201402 seconds (31.12 M allocations: 13.951 GiB)\n",
      "  1.207119 seconds (31.21 M allocations: 13.954 GiB)\n",
      "53\n",
      "  2.148794 seconds (31.29 M allocations: 13.882 GiB, 43.91% gc time)\n",
      "  1.205729 seconds (31.39 M allocations: 13.958 GiB)\n",
      "54\n",
      "  1.219900 seconds (31.49 M allocations: 13.961 GiB)\n",
      "  1.205502 seconds (31.55 M allocations: 13.962 GiB)\n",
      "55\n",
      "  1.228691 seconds (31.64 M allocations: 13.964 GiB)\n",
      "  1.217049 seconds (31.77 M allocations: 13.968 GiB)\n",
      "56\n",
      "  2.403151 seconds (31.85 M allocations: 13.892 GiB, 49.88% gc time)\n",
      "  1.227924 seconds (31.97 M allocations: 13.973 GiB)\n",
      "57\n",
      "  1.239017 seconds (32.04 M allocations: 13.974 GiB)\n",
      "  1.214834 seconds (32.14 M allocations: 13.977 GiB)\n",
      "58\n",
      "  1.191170 seconds (32.21 M allocations: 13.979 GiB)\n",
      "  1.205374 seconds (32.30 M allocations: 13.981 GiB)\n",
      "59\n",
      "  2.475398 seconds (32.39 M allocations: 13.907 GiB, 49.65% gc time)\n",
      "  1.223515 seconds (32.44 M allocations: 13.984 GiB)\n",
      "60\n",
      "  1.211877 seconds (32.53 M allocations: 13.986 GiB)\n",
      "  1.197337 seconds (32.64 M allocations: 13.989 GiB)\n",
      "61\n",
      "  1.207591 seconds (32.70 M allocations: 13.991 GiB)\n",
      "  1.238916 seconds (32.78 M allocations: 13.993 GiB)\n",
      "62\n",
      "  2.418776 seconds (32.88 M allocations: 13.916 GiB, 49.99% gc time)\n",
      "  1.248885 seconds (33.00 M allocations: 13.998 GiB)\n",
      "63\n",
      "  1.270420 seconds (33.05 M allocations: 13.999 GiB)\n",
      "  1.232490 seconds (33.16 M allocations: 14.002 GiB)\n",
      "64\n",
      "  1.206003 seconds (33.28 M allocations: 14.006 GiB)\n",
      "  1.203245 seconds (33.32 M allocations: 14.006 GiB)\n",
      "65\n",
      "  2.462456 seconds (33.38 M allocations: 13.934 GiB, 50.73% gc time)\n",
      "  1.263664 seconds (33.48 M allocations: 14.010 GiB)\n",
      "66\n",
      "  1.205149 seconds (33.55 M allocations: 14.012 GiB)\n",
      "  1.197925 seconds (33.68 M allocations: 14.015 GiB)\n",
      "67\n",
      "  1.192094 seconds (33.74 M allocations: 14.017 GiB)\n",
      "  1.191076 seconds (33.83 M allocations: 14.019 GiB)\n",
      "68\n",
      "  2.489726 seconds (33.90 M allocations: 13.943 GiB, 51.37% gc time)\n",
      "  1.232111 seconds (34.01 M allocations: 14.024 GiB)\n",
      "69\n",
      "  1.229908 seconds (34.08 M allocations: 14.025 GiB)\n",
      "  1.231644 seconds (34.22 M allocations: 14.029 GiB)\n",
      "70\n",
      "  1.225769 seconds (34.23 M allocations: 14.029 GiB)\n",
      "  1.222425 seconds (34.35 M allocations: 14.032 GiB)\n",
      "71\n",
      "  1.214537 seconds (34.42 M allocations: 13.956 GiB)\n",
      "  1.262407 seconds (34.52 M allocations: 14.036 GiB)\n",
      "72\n",
      "  1.229943 seconds (34.56 M allocations: 14.037 GiB)\n"
     ]
    },
    {
     "name": "stdout",
     "output_type": "stream",
     "text": [
      "  1.215649 seconds (34.68 M allocations: 14.040 GiB)\n",
      "73\n",
      "  1.219237 seconds (34.74 M allocations: 14.042 GiB)\n",
      "  2.568239 seconds (34.83 M allocations: 14.044 GiB, 52.82% gc time)\n",
      "74\n",
      "  1.226286 seconds (34.89 M allocations: 13.978 GiB)\n",
      "  1.222290 seconds (35.05 M allocations: 14.050 GiB)\n",
      "75\n",
      "  1.227361 seconds (35.07 M allocations: 14.050 GiB)\n",
      "  1.225678 seconds (35.20 M allocations: 14.053 GiB)\n",
      "76\n",
      "  1.274559 seconds (35.28 M allocations: 14.055 GiB)\n",
      "  2.763552 seconds (35.36 M allocations: 14.057 GiB, 55.29% gc time)\n",
      "77\n",
      "  1.223222 seconds (35.41 M allocations: 13.983 GiB)\n",
      "  1.246850 seconds (35.50 M allocations: 14.060 GiB)\n",
      "78\n",
      "  1.210815 seconds (35.56 M allocations: 14.062 GiB)\n",
      "  1.215919 seconds (35.65 M allocations: 14.064 GiB)\n",
      "79\n",
      "  1.212471 seconds (35.72 M allocations: 14.066 GiB)\n",
      "  1.215531 seconds (35.88 M allocations: 14.070 GiB)\n",
      "80\n",
      "  2.798294 seconds (35.89 M allocations: 13.985 GiB, 55.45% gc time)\n",
      "  1.251508 seconds (36.00 M allocations: 14.073 GiB)\n",
      "81\n",
      "  1.218022 seconds (36.08 M allocations: 14.075 GiB)\n",
      "  1.223823 seconds (36.19 M allocations: 14.077 GiB)\n",
      "82\n",
      "  1.233063 seconds (36.26 M allocations: 14.079 GiB)\n",
      "  2.437380 seconds (36.33 M allocations: 14.081 GiB, 48.34% gc time)\n",
      "83\n",
      "  1.245993 seconds (36.38 M allocations: 14.015 GiB)\n",
      "  1.247353 seconds (36.48 M allocations: 14.085 GiB)\n",
      "84\n",
      "  1.237539 seconds (36.54 M allocations: 14.086 GiB)\n",
      "  2.025205 seconds (36.64 M allocations: 14.089 GiB, 38.70% gc time)\n",
      "85\n",
      "  1.251828 seconds (36.75 M allocations: 14.028 GiB)\n",
      "  1.222157 seconds (36.80 M allocations: 14.093 GiB)\n",
      "86\n",
      "  5.124479 seconds (36.84 M allocations: 13.313 GiB, 75.73% gc time)\n",
      "  1.241947 seconds (36.93 M allocations: 12.710 GiB)\n",
      "87\n",
      "  1.244817 seconds (37.04 M allocations: 13.461 GiB)\n",
      "  1.234390 seconds (37.15 M allocations: 14.101 GiB)\n",
      "88\n",
      "  2.132356 seconds (37.20 M allocations: 14.081 GiB, 41.27% gc time)\n",
      "  1.281338 seconds (37.31 M allocations: 14.105 GiB)\n",
      "89\n",
      "  1.246101 seconds (37.37 M allocations: 14.107 GiB)\n",
      "  1.224687 seconds (37.45 M allocations: 14.109 GiB)\n",
      "90\n",
      "  2.373028 seconds (37.50 M allocations: 14.046 GiB, 47.73% gc time)\n",
      "  1.272545 seconds (37.61 M allocations: 14.113 GiB)\n",
      "91\n",
      "  1.225737 seconds (37.74 M allocations: 14.117 GiB)\n",
      "  1.215965 seconds (37.80 M allocations: 14.117 GiB)\n",
      "92\n",
      "  1.409486 seconds (37.86 M allocations: 14.119 GiB)\n",
      "  2.536068 seconds (37.96 M allocations: 14.121 GiB, 51.59% gc time)\n",
      "93\n",
      "  1.304668 seconds (38.03 M allocations: 14.056 GiB)\n",
      "  1.234108 seconds (38.14 M allocations: 14.126 GiB)\n",
      "94\n",
      "  1.239075 seconds (38.20 M allocations: 14.127 GiB)\n",
      "  2.130961 seconds (38.26 M allocations: 14.129 GiB, 40.61% gc time)\n",
      "95\n",
      "  1.245695 seconds (38.32 M allocations: 14.067 GiB)\n",
      "  1.237112 seconds (38.44 M allocations: 14.133 GiB)\n",
      "96\n",
      "  1.227154 seconds (38.55 M allocations: 14.137 GiB)\n",
      "  1.262892 seconds (38.59 M allocations: 14.137 GiB)\n",
      "97\n",
      "  1.226163 seconds (38.65 M allocations: 14.139 GiB)\n",
      "  2.543807 seconds (38.78 M allocations: 14.142 GiB, 51.86% gc time)\n",
      "98\n",
      "  1.249658 seconds (38.86 M allocations: 14.069 GiB)\n",
      "  1.255640 seconds (38.96 M allocations: 14.146 GiB)\n",
      "99\n",
      "  1.203509 seconds (39.00 M allocations: 14.147 GiB)\n",
      "  1.206167 seconds (39.10 M allocations: 14.150 GiB)\n",
      "100\n",
      "  1.223860 seconds (39.16 M allocations: 14.151 GiB)\n",
      "  2.594814 seconds (39.27 M allocations: 14.154 GiB, 53.09% gc time)\n",
      "101\n",
      "  1.214965 seconds (39.37 M allocations: 14.080 GiB)\n",
      "  1.205503 seconds (39.42 M allocations: 14.158 GiB)\n",
      "102\n",
      "  1.209915 seconds (39.51 M allocations: 14.160 GiB)\n",
      "  1.234355 seconds (39.62 M allocations: 14.163 GiB)\n",
      "103\n",
      "  1.208245 seconds (39.69 M allocations: 14.164 GiB)\n",
      "  2.588556 seconds (39.78 M allocations: 14.166 GiB, 52.21% gc time)\n",
      "104\n",
      "  1.231276 seconds (39.83 M allocations: 14.093 GiB)\n",
      "  1.244223 seconds (39.93 M allocations: 14.170 GiB)\n",
      "105\n",
      "  1.246951 seconds (39.98 M allocations: 14.172 GiB)\n",
      "  1.205239 seconds (40.07 M allocations: 14.174 GiB)\n",
      "106\n",
      "  1.213955 seconds (40.15 M allocations: 14.176 GiB)\n",
      "  1.204597 seconds (40.31 M allocations: 14.180 GiB)\n",
      "107\n",
      "  2.599294 seconds (40.32 M allocations: 14.095 GiB, 52.78% gc time)\n",
      "  1.206157 seconds (40.45 M allocations: 14.183 GiB)\n",
      "108\n",
      "  1.203306 seconds (40.51 M allocations: 14.185 GiB)\n",
      "  1.203938 seconds (40.62 M allocations: 14.187 GiB)\n",
      "109\n",
      "  1.239173 seconds (40.69 M allocations: 14.189 GiB)\n",
      "  1.230458 seconds (40.77 M allocations: 14.191 GiB)\n",
      "110\n",
      "  2.649378 seconds (40.83 M allocations: 14.112 GiB, 53.20% gc time)\n",
      "  1.261463 seconds (40.93 M allocations: 14.195 GiB)\n",
      "111\n",
      "  1.205036 seconds (41.00 M allocations: 14.197 GiB)\n",
      "  1.205297 seconds (41.15 M allocations: 14.201 GiB)\n",
      "112\n",
      "  1.208743 seconds (41.15 M allocations: 14.201 GiB)\n",
      "  1.199544 seconds (41.25 M allocations: 14.203 GiB)\n",
      "113\n",
      "  2.600070 seconds (41.34 M allocations: 14.128 GiB, 53.48% gc time)\n",
      "  1.223490 seconds (41.46 M allocations: 14.208 GiB)\n",
      "114\n",
      "  1.205038 seconds (41.52 M allocations: 14.210 GiB)\n",
      "  1.213048 seconds (41.63 M allocations: 14.213 GiB)\n",
      "115\n",
      "  1.214176 seconds (41.71 M allocations: 14.214 GiB)\n",
      "  1.210176 seconds (41.80 M allocations: 14.217 GiB)\n",
      "116\n",
      " 10.631363 seconds (41.84 M allocations: 14.156 GiB, 88.22% gc time)\n",
      "  1.218955 seconds (41.99 M allocations: 14.222 GiB)\n",
      "117\n",
      "  1.217337 seconds (42.01 M allocations: 14.222 GiB)\n",
      "  1.209720 seconds (42.11 M allocations: 14.224 GiB)\n",
      "118\n",
      "  1.259335 seconds (42.17 M allocations: 14.226 GiB)\n",
      "  1.221557 seconds (42.28 M allocations: 14.229 GiB)\n",
      "119\n",
      "  1.236448 seconds (42.37 M allocations: 14.231 GiB)\n",
      "  3.042569 seconds (42.50 M allocations: 14.234 GiB, 55.49% gc time)\n",
      "120\n",
      "  1.276896 seconds (42.57 M allocations: 14.224 GiB)\n",
      "  1.210086 seconds (42.66 M allocations: 14.238 GiB)\n",
      "121\n",
      "  1.216075 seconds (42.71 M allocations: 14.239 GiB)\n",
      "  1.204319 seconds (42.80 M allocations: 14.242 GiB)\n",
      "122\n",
      "  1.302720 seconds (42.91 M allocations: 14.245 GiB)\n",
      "  2.706719 seconds (42.95 M allocations: 14.245 GiB, 55.15% gc time)\n",
      "123\n",
      "  1.209836 seconds (43.00 M allocations: 14.169 GiB)\n",
      "  1.200208 seconds (43.11 M allocations: 14.249 GiB)\n",
      "124\n",
      "  1.254231 seconds (43.19 M allocations: 14.251 GiB)\n",
      "  1.201816 seconds (43.33 M allocations: 14.255 GiB)\n",
      "125\n",
      "  1.194433 seconds (43.42 M allocations: 14.257 GiB)\n",
      "  1.197600 seconds (43.52 M allocations: 14.260 GiB)\n",
      "126\n",
      "  2.750773 seconds (43.58 M allocations: 14.176 GiB, 55.83% gc time)\n",
      "  1.202778 seconds (43.67 M allocations: 14.263 GiB)\n",
      "127\n",
      "  1.200688 seconds (43.77 M allocations: 14.266 GiB)\n",
      "  1.198351 seconds (43.79 M allocations: 14.266 GiB)\n",
      "128\n",
      "  1.211418 seconds (43.86 M allocations: 14.268 GiB)\n",
      "  1.221821 seconds (43.95 M allocations: 14.270 GiB)\n",
      "129\n",
      "  2.738462 seconds (44.02 M allocations: 14.195 GiB, 56.45% gc time)\n",
      "  1.213274 seconds (44.18 M allocations: 14.276 GiB)\n",
      "130\n",
      "  1.228927 seconds (44.28 M allocations: 14.278 GiB)\n",
      "  1.200470 seconds (44.38 M allocations: 14.281 GiB)\n",
      "131\n",
      "  1.199693 seconds (44.43 M allocations: 14.282 GiB)\n",
      "  1.211587 seconds (44.53 M allocations: 14.284 GiB)\n",
      "132\n",
      "  2.765915 seconds (44.64 M allocations: 14.211 GiB, 55.62% gc time)\n",
      "  1.214321 seconds (44.66 M allocations: 14.288 GiB)\n",
      "133\n",
      "  1.211073 seconds (44.71 M allocations: 14.289 GiB)\n",
      "  1.205620 seconds (44.83 M allocations: 14.292 GiB)\n",
      "134\n",
      "  1.228852 seconds (44.92 M allocations: 14.294 GiB)\n",
      "  1.227093 seconds (45.03 M allocations: 14.297 GiB)\n",
      "135\n",
      "  1.262095 seconds (45.09 M allocations: 14.299 GiB)\n",
      "  3.377948 seconds (45.21 M allocations: 14.301 GiB, 56.16% gc time)\n",
      "136\n",
      "  1.213404 seconds (45.28 M allocations: 14.288 GiB)\n",
      "  1.218289 seconds (45.39 M allocations: 14.306 GiB)\n",
      "137\n",
      "  1.212457 seconds (45.46 M allocations: 14.308 GiB)\n",
      "  1.215945 seconds (45.61 M allocations: 14.312 GiB)\n",
      "138\n",
      "  1.220489 seconds (45.63 M allocations: 14.312 GiB)\n",
      "  1.229748 seconds (45.74 M allocations: 14.314 GiB)\n",
      "139\n",
      "  2.878150 seconds (45.81 M allocations: 14.233 GiB, 57.28% gc time)\n",
      "  1.215124 seconds (45.89 M allocations: 14.318 GiB)\n",
      "140\n",
      "  1.247146 seconds (45.95 M allocations: 14.320 GiB)\n",
      "  1.211585 seconds (46.03 M allocations: 14.322 GiB)\n",
      "141\n",
      "  1.220459 seconds (46.11 M allocations: 14.324 GiB)\n",
      "  1.211835 seconds (46.26 M allocations: 14.328 GiB)\n",
      "142\n",
      "  2.863266 seconds (46.34 M allocations: 14.252 GiB, 57.39% gc time)\n",
      "  1.231576 seconds (46.50 M allocations: 14.334 GiB)\n",
      "143\n",
      "  1.221696 seconds (46.51 M allocations: 14.334 GiB)\n",
      "  1.206897 seconds (46.62 M allocations: 14.336 GiB)\n",
      "144\n"
     ]
    },
    {
     "name": "stdout",
     "output_type": "stream",
     "text": [
      "  1.239546 seconds (46.69 M allocations: 14.338 GiB)\n",
      "  1.223683 seconds (46.77 M allocations: 14.340 GiB)\n",
      "145\n",
      " 11.662449 seconds (46.80 M allocations: 14.287 GiB, 89.19% gc time)\n",
      "  1.216318 seconds (46.92 M allocations: 14.344 GiB)\n",
      "146\n",
      "  1.237980 seconds (47.00 M allocations: 14.346 GiB)\n",
      "  1.212349 seconds (47.11 M allocations: 14.349 GiB)\n",
      "147\n",
      "  1.401006 seconds (47.20 M allocations: 14.351 GiB)\n",
      "  1.384830 seconds (47.37 M allocations: 14.356 GiB)\n",
      "148\n",
      "  1.277302 seconds (47.39 M allocations: 14.355 GiB)\n",
      "  3.186168 seconds (47.49 M allocations: 14.358 GiB, 60.97% gc time)\n",
      "149\n",
      "  1.230429 seconds (47.55 M allocations: 14.336 GiB)\n",
      "  1.215313 seconds (47.65 M allocations: 14.362 GiB)\n",
      "150\n",
      "  1.239449 seconds (47.72 M allocations: 14.364 GiB)\n",
      "  1.230413 seconds (47.83 M allocations: 14.366 GiB)\n",
      "151\n",
      "  1.295162 seconds (47.90 M allocations: 14.368 GiB)\n",
      "  1.220807 seconds (48.00 M allocations: 14.371 GiB)\n",
      "152\n",
      "  2.975284 seconds (48.05 M allocations: 14.353 GiB, 58.31% gc time)\n",
      "  1.261181 seconds (48.19 M allocations: 14.376 GiB)\n",
      "153\n",
      "  1.245053 seconds (48.32 M allocations: 14.379 GiB)\n",
      "  1.236444 seconds (48.39 M allocations: 14.380 GiB)\n",
      "154\n",
      "  1.229528 seconds (48.46 M allocations: 14.382 GiB)\n",
      "  1.217715 seconds (48.55 M allocations: 14.384 GiB)\n",
      "155\n",
      " 12.038222 seconds (48.62 M allocations: 14.332 GiB, 89.24% gc time)\n",
      "  1.277872 seconds (48.73 M allocations: 14.389 GiB)\n",
      "156\n",
      "  1.257283 seconds (48.78 M allocations: 14.390 GiB)\n",
      "  1.233625 seconds (48.87 M allocations: 14.392 GiB)\n",
      "157\n",
      "  1.233732 seconds (48.95 M allocations: 14.394 GiB)\n",
      "  1.230711 seconds (49.07 M allocations: 14.397 GiB)\n",
      "158\n",
      "  1.303789 seconds (49.20 M allocations: 14.401 GiB)\n",
      "  3.243406 seconds (49.25 M allocations: 14.402 GiB, 62.14% gc time)\n",
      "159\n",
      "  1.238323 seconds (49.32 M allocations: 14.392 GiB)\n",
      "  1.279007 seconds (49.44 M allocations: 14.406 GiB)\n",
      "160\n",
      "  1.262914 seconds (49.51 M allocations: 14.408 GiB)\n",
      "  1.240703 seconds (49.59 M allocations: 14.410 GiB)\n",
      "161\n",
      "  1.245352 seconds (49.65 M allocations: 14.412 GiB)\n",
      "  1.257923 seconds (49.79 M allocations: 14.415 GiB)\n",
      "162\n",
      "  3.085722 seconds (49.88 M allocations: 14.333 GiB, 59.45% gc time)\n",
      "  1.264989 seconds (49.98 M allocations: 14.420 GiB)\n",
      "163\n",
      "  1.277198 seconds (50.08 M allocations: 14.423 GiB)\n",
      "  1.267097 seconds (50.14 M allocations: 14.424 GiB)\n",
      "164\n",
      "  1.235152 seconds (50.23 M allocations: 14.426 GiB)\n",
      "  1.225314 seconds (50.33 M allocations: 14.429 GiB)\n",
      "165\n",
      "  1.250101 seconds (50.39 M allocations: 14.430 GiB)\n",
      "  3.584370 seconds (50.51 M allocations: 14.433 GiB, 62.71% gc time)\n",
      "166\n",
      "  1.230947 seconds (50.60 M allocations: 14.410 GiB)\n",
      "  1.236667 seconds (50.71 M allocations: 14.438 GiB)\n",
      "167\n",
      "  1.297232 seconds (50.76 M allocations: 14.439 GiB)\n",
      "  1.254051 seconds (50.86 M allocations: 14.442 GiB)\n",
      "168\n",
      "  1.273870 seconds (50.99 M allocations: 14.446 GiB)\n",
      "  1.225582 seconds (51.04 M allocations: 14.446 GiB)\n",
      "169\n",
      "  3.182632 seconds (51.09 M allocations: 14.370 GiB, 61.06% gc time)\n",
      "  1.306811 seconds (51.24 M allocations: 14.451 GiB)\n",
      "170\n",
      "  1.263614 seconds (51.32 M allocations: 14.453 GiB)\n",
      "  1.242484 seconds (51.42 M allocations: 14.456 GiB)\n",
      "171\n",
      "  1.346058 seconds (51.49 M allocations: 14.457 GiB)\n",
      "  1.228521 seconds (51.60 M allocations: 14.460 GiB)\n",
      "172\n",
      "  3.166375 seconds (51.66 M allocations: 14.384 GiB, 60.53% gc time)\n",
      "  1.316234 seconds (51.79 M allocations: 14.465 GiB)\n",
      "173\n",
      "  1.277253 seconds (51.85 M allocations: 14.466 GiB)\n",
      "  1.239574 seconds (52.00 M allocations: 14.471 GiB)\n",
      "174\n",
      "  1.260905 seconds (52.02 M allocations: 14.470 GiB)\n",
      "  1.251824 seconds (52.13 M allocations: 14.473 GiB)\n",
      "175\n",
      "  1.280160 seconds (52.19 M allocations: 14.475 GiB)\n",
      "  3.597130 seconds (52.30 M allocations: 14.477 GiB, 64.63% gc time)\n",
      "176\n",
      "  1.241065 seconds (52.37 M allocations: 14.468 GiB)\n",
      "  1.242444 seconds (52.48 M allocations: 14.482 GiB)\n",
      "177\n",
      "  1.241809 seconds (52.57 M allocations: 14.484 GiB)\n",
      "  1.282367 seconds (52.69 M allocations: 14.487 GiB)\n",
      "178\n",
      "  1.233153 seconds (52.76 M allocations: 14.489 GiB)\n",
      "  1.266443 seconds (52.89 M allocations: 14.493 GiB)\n",
      "179\n",
      "  3.256141 seconds (52.90 M allocations: 14.409 GiB, 62.26% gc time)\n",
      "  1.252417 seconds (53.03 M allocations: 14.496 GiB)\n",
      "180\n",
      "  1.302907 seconds (53.09 M allocations: 14.497 GiB)\n",
      "  1.241280 seconds (53.19 M allocations: 14.500 GiB)\n",
      "181\n",
      "  1.278108 seconds (53.28 M allocations: 14.502 GiB)\n",
      "  1.218524 seconds (53.43 M allocations: 14.505 GiB)\n",
      "182\n",
      "  1.251757 seconds (53.51 M allocations: 14.507 GiB)\n",
      " 13.845461 seconds (53.60 M allocations: 14.450 GiB, 90.27% gc time)\n",
      "183\n",
      "  1.229685 seconds (53.68 M allocations: 14.512 GiB)\n",
      "  1.261207 seconds (53.83 M allocations: 14.516 GiB)\n",
      "184\n",
      "  1.293175 seconds (53.83 M allocations: 14.515 GiB)\n",
      "  1.310566 seconds (53.93 M allocations: 14.518 GiB)\n",
      "185\n",
      "  1.311265 seconds (53.99 M allocations: 14.519 GiB)\n",
      "  1.314501 seconds (54.11 M allocations: 14.522 GiB)\n",
      "186\n",
      "  3.393772 seconds (54.20 M allocations: 14.504 GiB, 62.07% gc time)\n",
      "  1.233140 seconds (54.34 M allocations: 14.528 GiB)\n",
      "187\n",
      "  1.235387 seconds (54.41 M allocations: 14.530 GiB)\n",
      "  1.214209 seconds (54.50 M allocations: 14.532 GiB)\n",
      "188\n",
      "  1.223866 seconds (54.57 M allocations: 14.534 GiB)\n",
      "  1.292430 seconds (54.68 M allocations: 14.537 GiB)\n",
      "189\n",
      "  1.298459 seconds (54.80 M allocations: 14.540 GiB)\n",
      "  3.885468 seconds (54.87 M allocations: 14.541 GiB, 64.08% gc time)\n",
      "190\n",
      "  1.365068 seconds (54.94 M allocations: 14.528 GiB)\n",
      "  1.377904 seconds (55.04 M allocations: 14.545 GiB)\n",
      "191\n",
      "  1.379824 seconds (55.11 M allocations: 14.547 GiB)\n",
      "  1.380241 seconds (55.25 M allocations: 14.551 GiB)\n",
      "192\n",
      "  1.378235 seconds (55.32 M allocations: 14.552 GiB)\n",
      "  1.367352 seconds (55.44 M allocations: 14.556 GiB)\n",
      "193\n",
      "  3.602445 seconds (55.52 M allocations: 14.476 GiB, 62.56% gc time)\n",
      "  1.247394 seconds (55.64 M allocations: 14.560 GiB)\n",
      "194\n",
      "  1.241173 seconds (55.74 M allocations: 14.564 GiB)\n",
      "  1.240024 seconds (55.79 M allocations: 14.564 GiB)\n",
      "195\n",
      "  1.245877 seconds (55.85 M allocations: 14.566 GiB)\n",
      "  1.260913 seconds (55.96 M allocations: 14.568 GiB)\n",
      "196\n",
      "  1.256851 seconds (56.03 M allocations: 14.570 GiB)\n",
      "  3.997304 seconds (56.16 M allocations: 14.573 GiB, 66.26% gc time)\n",
      "197\n",
      "  1.239500 seconds (56.24 M allocations: 14.496 GiB)\n",
      "  1.237801 seconds (56.35 M allocations: 14.578 GiB)\n",
      "198\n",
      "  1.276325 seconds (56.43 M allocations: 14.580 GiB)\n",
      "  1.281901 seconds (56.55 M allocations: 14.583 GiB)\n",
      "199\n",
      "  1.334495 seconds (56.66 M allocations: 14.586 GiB)\n",
      "  1.223692 seconds (56.69 M allocations: 14.586 GiB)\n",
      "200\n",
      "  3.319720 seconds (56.76 M allocations: 14.505 GiB, 62.65% gc time)\n",
      "  1.284215 seconds (56.91 M allocations: 14.592 GiB)\n",
      "201\n",
      "  1.252771 seconds (56.98 M allocations: 14.594 GiB)\n",
      "  1.228183 seconds (57.10 M allocations: 14.597 GiB)\n",
      "202\n",
      "  2.569679 seconds (57.18 M allocations: 14.533 GiB, 45.52% gc time)\n",
      "  1.319791 seconds (57.30 M allocations: 14.602 GiB)\n",
      "203\n",
      "  1.257993 seconds (57.37 M allocations: 14.603 GiB)\n",
      "  1.243143 seconds (57.47 M allocations: 14.606 GiB)\n",
      "204\n",
      " 10.295472 seconds (57.55 M allocations: 14.576 GiB, 87.38% gc time)\n",
      "  1.213103 seconds (57.62 M allocations: 14.609 GiB)\n",
      "205\n",
      "  1.250215 seconds (57.71 M allocations: 14.612 GiB)\n",
      "  1.227279 seconds (57.83 M allocations: 14.615 GiB)\n",
      "206\n",
      "  1.242614 seconds (57.92 M allocations: 14.617 GiB)\n",
      "  2.765478 seconds (58.05 M allocations: 14.620 GiB, 52.43% gc time)\n",
      "207\n",
      "  1.258872 seconds (58.14 M allocations: 14.611 GiB)\n",
      "  1.310565 seconds (58.23 M allocations: 14.625 GiB)\n",
      "208\n",
      "  1.274141 seconds (58.30 M allocations: 14.626 GiB)\n",
      "  1.220081 seconds (58.40 M allocations: 14.629 GiB)\n",
      "209\n",
      "  2.676748 seconds (58.48 M allocations: 14.558 GiB, 50.71% gc time)\n",
      "  1.349940 seconds (58.63 M allocations: 14.635 GiB)\n",
      "210\n",
      "  1.249212 seconds (58.64 M allocations: 14.635 GiB)\n",
      "  1.242882 seconds (58.77 M allocations: 14.638 GiB)\n",
      "211\n",
      "  2.802859 seconds (58.86 M allocations: 14.575 GiB, 55.26% gc time)\n",
      "  1.235362 seconds (58.98 M allocations: 14.643 GiB)\n",
      "212\n",
      "  1.236609 seconds (59.04 M allocations: 14.645 GiB)\n",
      "  1.217188 seconds (59.14 M allocations: 14.647 GiB)\n",
      "213\n",
      "  1.246803 seconds (59.22 M allocations: 14.649 GiB)\n",
      "  1.289779 seconds (59.34 M allocations: 14.652 GiB)\n",
      "214\n",
      "  1.491813 seconds (59.40 M allocations: 14.654 GiB)\n",
      "  3.780259 seconds (59.56 M allocations: 14.659 GiB, 59.19% gc time)\n",
      "215\n",
      "  1.245334 seconds (59.58 M allocations: 14.652 GiB)\n"
     ]
    },
    {
     "name": "stdout",
     "output_type": "stream",
     "text": [
      "  1.237818 seconds (59.71 M allocations: 14.661 GiB)\n",
      "216\n",
      "  1.229655 seconds (59.80 M allocations: 14.664 GiB)\n",
      "  1.239933 seconds (59.91 M allocations: 14.666 GiB)\n",
      "217\n",
      "  2.506589 seconds (59.98 M allocations: 14.591 GiB, 50.32% gc time)\n",
      "  1.306887 seconds (60.08 M allocations: 14.671 GiB)\n",
      "218\n",
      "  1.256391 seconds (60.15 M allocations: 14.672 GiB)\n",
      "  1.257695 seconds (60.26 M allocations: 14.675 GiB)\n",
      "219\n",
      " 10.290125 seconds (60.35 M allocations: 14.627 GiB, 87.57% gc time)\n",
      "  1.237492 seconds (60.52 M allocations: 14.682 GiB)\n",
      "220\n",
      "  1.351771 seconds (60.51 M allocations: 14.681 GiB)\n",
      "  1.228512 seconds (60.65 M allocations: 14.685 GiB)\n",
      "221\n",
      "  1.253762 seconds (60.74 M allocations: 14.687 GiB)\n",
      " 10.593025 seconds (60.85 M allocations: 14.690 GiB, 88.27% gc time)\n",
      "222\n",
      "  1.255002 seconds (60.92 M allocations: 14.692 GiB)\n",
      "  1.224334 seconds (61.03 M allocations: 14.694 GiB)\n",
      "223\n",
      "  1.254624 seconds (61.11 M allocations: 14.696 GiB)\n",
      "  2.683426 seconds (61.24 M allocations: 14.699 GiB, 53.75% gc time)\n",
      "224\n",
      "  1.249195 seconds (61.30 M allocations: 14.680 GiB)\n",
      "  1.251462 seconds (61.40 M allocations: 14.704 GiB)\n",
      "225\n",
      "  1.283360 seconds (61.53 M allocations: 14.707 GiB)\n",
      "  1.238402 seconds (61.60 M allocations: 14.708 GiB)\n",
      "226\n",
      "  1.238027 seconds (61.69 M allocations: 14.711 GiB)\n",
      "  1.272985 seconds (61.78 M allocations: 14.713 GiB)\n",
      "227\n",
      "  1.478803 seconds (61.84 M allocations: 14.714 GiB)\n",
      "  4.005467 seconds (61.94 M allocations: 14.717 GiB, 59.65% gc time)\n",
      "228\n",
      "  1.242238 seconds (62.05 M allocations: 14.696 GiB)\n",
      "  1.282459 seconds (62.18 M allocations: 14.723 GiB)\n",
      "229\n",
      "  1.236600 seconds (62.24 M allocations: 14.724 GiB)\n",
      "  1.253747 seconds (62.37 M allocations: 14.727 GiB)\n",
      "230\n",
      "  1.312716 seconds (62.48 M allocations: 14.731 GiB)\n",
      "  1.315978 seconds (62.56 M allocations: 14.732 GiB)\n",
      "231\n",
      "  3.221649 seconds (62.61 M allocations: 14.654 GiB, 61.31% gc time)\n",
      "  1.243550 seconds (62.69 M allocations: 14.735 GiB)\n",
      "232\n",
      "  1.248197 seconds (62.78 M allocations: 14.738 GiB)\n",
      "  1.239748 seconds (62.92 M allocations: 14.741 GiB)\n",
      "233\n",
      "  1.251172 seconds (63.00 M allocations: 14.743 GiB)\n",
      "  1.259467 seconds (63.13 M allocations: 14.746 GiB)\n",
      "234\n",
      "  1.260905 seconds (63.21 M allocations: 14.749 GiB)\n",
      "  3.823510 seconds (63.32 M allocations: 14.751 GiB, 64.68% gc time)\n",
      "235\n",
      "  1.235388 seconds (63.45 M allocations: 14.749 GiB)\n",
      "  1.238369 seconds (63.48 M allocations: 14.755 GiB)\n",
      "236\n",
      "  1.251683 seconds (63.53 M allocations: 14.756 GiB)\n",
      "  1.222211 seconds (63.67 M allocations: 14.760 GiB)\n",
      "237\n",
      "  1.255977 seconds (63.75 M allocations: 14.762 GiB)\n",
      "  1.235721 seconds (63.87 M allocations: 14.765 GiB)\n",
      "238\n",
      "  1.296123 seconds (63.96 M allocations: 14.767 GiB)\n",
      "  3.870841 seconds (64.08 M allocations: 14.770 GiB, 64.76% gc time)\n",
      "239\n",
      "  1.234151 seconds (64.14 M allocations: 14.754 GiB)\n",
      "  1.246356 seconds (64.26 M allocations: 14.775 GiB)\n",
      "240\n",
      "  1.246965 seconds (64.37 M allocations: 14.778 GiB)\n",
      "  1.229409 seconds (64.41 M allocations: 14.778 GiB)\n",
      "241\n",
      "  1.242822 seconds (64.49 M allocations: 14.780 GiB)\n",
      "  1.228403 seconds (64.61 M allocations: 14.783 GiB)\n",
      "242\n",
      "  3.349384 seconds (64.70 M allocations: 14.766 GiB, 63.03% gc time)\n",
      "  1.244348 seconds (64.84 M allocations: 14.789 GiB)\n",
      "243\n",
      "  1.281167 seconds (64.90 M allocations: 14.790 GiB)\n",
      "  1.243624 seconds (65.02 M allocations: 14.793 GiB)\n",
      "244\n",
      "  1.250792 seconds (65.11 M allocations: 14.796 GiB)\n",
      "  1.256038 seconds (65.20 M allocations: 14.798 GiB)\n",
      "245\n",
      "  1.301927 seconds (65.25 M allocations: 14.799 GiB)\n",
      "  1.266732 seconds (65.41 M allocations: 14.804 GiB)\n",
      "246\n",
      "  3.854701 seconds (65.45 M allocations: 14.783 GiB, 67.93% gc time)\n",
      "  1.240990 seconds (65.60 M allocations: 14.808 GiB)\n",
      "247\n",
      "  1.249555 seconds (65.66 M allocations: 14.809 GiB)\n",
      "  1.244153 seconds (65.78 M allocations: 14.812 GiB)\n",
      "248\n",
      "  1.226178 seconds (65.86 M allocations: 14.814 GiB)\n",
      "  1.282868 seconds (65.98 M allocations: 14.817 GiB)\n",
      "249\n",
      "  1.258782 seconds (66.04 M allocations: 14.819 GiB)\n",
      "  3.964319 seconds (66.14 M allocations: 14.821 GiB, 67.19% gc time)\n",
      "250\n",
      "  1.226490 seconds (66.20 M allocations: 14.746 GiB)\n",
      "  1.247342 seconds (66.40 M allocations: 14.828 GiB)\n",
      "251\n",
      "  1.237956 seconds (66.43 M allocations: 14.828 GiB)\n",
      "  1.312665 seconds (66.53 M allocations: 14.831 GiB)\n",
      "252\n",
      "  1.244969 seconds (66.61 M allocations: 14.833 GiB)\n",
      "  1.277141 seconds (66.74 M allocations: 14.836 GiB)\n",
      "253\n",
      " 15.134872 seconds (66.84 M allocations: 14.838 GiB, 91.71% gc time)\n",
      "  1.231835 seconds (66.91 M allocations: 14.840 GiB)\n",
      "254\n",
      "  1.242486 seconds (66.98 M allocations: 14.842 GiB)\n",
      "  1.259028 seconds (67.11 M allocations: 14.845 GiB)\n",
      "255\n",
      "  1.243183 seconds (67.19 M allocations: 14.847 GiB)\n",
      "  1.241694 seconds (67.38 M allocations: 14.853 GiB)\n",
      "256\n",
      "  1.312324 seconds (67.39 M allocations: 14.852 GiB)\n",
      "  1.354230 seconds (67.48 M allocations: 14.854 GiB)\n",
      "257\n",
      "  3.956191 seconds (67.55 M allocations: 14.833 GiB, 68.67% gc time)\n",
      "  1.243743 seconds (67.67 M allocations: 14.859 GiB)\n",
      "258\n",
      "  1.259424 seconds (67.74 M allocations: 14.861 GiB)\n",
      "  1.240533 seconds (67.87 M allocations: 14.864 GiB)\n",
      "259\n",
      "  1.234394 seconds (67.96 M allocations: 14.866 GiB)\n",
      "  1.234367 seconds (68.09 M allocations: 14.870 GiB)\n",
      "260\n",
      "  1.247478 seconds (68.16 M allocations: 14.871 GiB)\n",
      "  1.324108 seconds (68.31 M allocations: 14.876 GiB)\n",
      "261\n",
      "  1.219585 seconds (68.32 M allocations: 14.848 GiB)\n",
      "  1.260738 seconds (68.43 M allocations: 14.878 GiB)\n",
      "262\n",
      "  1.252161 seconds (68.51 M allocations: 14.880 GiB)\n",
      "  1.236341 seconds (68.63 M allocations: 14.883 GiB)\n",
      "263\n",
      "  1.237201 seconds (68.72 M allocations: 14.885 GiB)\n",
      "  1.235051 seconds (68.86 M allocations: 14.889 GiB)\n",
      "264\n",
      "  1.275210 seconds (68.94 M allocations: 14.891 GiB)\n",
      "  4.125674 seconds (69.05 M allocations: 14.893 GiB, 68.66% gc time)\n",
      "265\n",
      "  1.231132 seconds (69.11 M allocations: 14.827 GiB)\n",
      "  1.261455 seconds (69.22 M allocations: 14.898 GiB)\n",
      "266\n",
      "  1.238769 seconds (69.33 M allocations: 14.901 GiB)\n",
      "  1.288209 seconds (69.40 M allocations: 14.902 GiB)\n",
      "267\n",
      "  1.240116 seconds (69.48 M allocations: 14.904 GiB)\n",
      "  1.249614 seconds (69.62 M allocations: 14.907 GiB)\n",
      "268\n",
      "  1.255371 seconds (69.70 M allocations: 14.910 GiB)\n",
      "  4.164121 seconds (69.80 M allocations: 14.912 GiB, 68.54% gc time)\n",
      "269\n",
      "  1.311352 seconds (69.88 M allocations: 14.897 GiB)\n",
      "  1.246294 seconds (69.98 M allocations: 14.917 GiB)\n",
      "270\n",
      "  1.244810 seconds (70.05 M allocations: 14.918 GiB)\n",
      "  1.255973 seconds (70.17 M allocations: 14.921 GiB)\n",
      "271\n",
      "  1.263195 seconds (70.30 M allocations: 14.925 GiB)\n",
      "  1.254152 seconds (70.39 M allocations: 14.927 GiB)\n",
      "272\n",
      "  3.642153 seconds (70.48 M allocations: 14.844 GiB, 66.26% gc time)\n",
      "  1.282268 seconds (70.59 M allocations: 14.932 GiB)\n",
      "273\n",
      "  1.265585 seconds (70.64 M allocations: 14.933 GiB)\n",
      "  1.233071 seconds (70.75 M allocations: 14.936 GiB)\n",
      "274\n",
      "  1.268766 seconds (70.83 M allocations: 14.938 GiB)\n",
      "  1.299921 seconds (70.94 M allocations: 14.940 GiB)\n",
      "275\n",
      "  1.331459 seconds (71.02 M allocations: 14.942 GiB)\n",
      "  1.283951 seconds (71.15 M allocations: 14.946 GiB)\n",
      "276\n",
      "  4.259318 seconds (71.30 M allocations: 14.923 GiB, 69.48% gc time)\n",
      "  1.245966 seconds (71.36 M allocations: 14.951 GiB)\n",
      "277\n",
      "  1.254653 seconds (71.42 M allocations: 14.952 GiB)\n",
      "  1.255857 seconds (71.51 M allocations: 14.954 GiB)\n",
      "278\n",
      "  1.236189 seconds (71.60 M allocations: 14.957 GiB)\n",
      "  1.258138 seconds (71.71 M allocations: 14.960 GiB)\n",
      "279\n",
      "  1.256960 seconds (71.79 M allocations: 14.961 GiB)\n",
      "  1.320251 seconds (71.92 M allocations: 14.965 GiB)\n",
      "280\n",
      "  4.273166 seconds (72.01 M allocations: 14.886 GiB, 71.13% gc time)\n",
      "  1.259343 seconds (72.15 M allocations: 14.971 GiB)\n",
      "281\n",
      "  1.250825 seconds (72.22 M allocations: 14.972 GiB)\n",
      "  1.263752 seconds (72.35 M allocations: 14.976 GiB)\n",
      "282\n",
      "  1.251363 seconds (72.36 M allocations: 14.975 GiB)\n",
      "  1.298516 seconds (72.49 M allocations: 14.979 GiB)\n",
      "283\n",
      "  1.313443 seconds (72.57 M allocations: 14.981 GiB)\n",
      "  4.359935 seconds (72.69 M allocations: 14.984 GiB, 70.11% gc time)\n",
      "284\n",
      "  1.228401 seconds (72.77 M allocations: 14.976 GiB)\n",
      "  1.248026 seconds (72.91 M allocations: 14.989 GiB)\n",
      "285\n",
      "  1.254017 seconds (73.00 M allocations: 14.991 GiB)\n",
      "  1.253789 seconds (73.09 M allocations: 14.994 GiB)\n",
      "286\n",
      "  1.237367 seconds (73.14 M allocations: 14.995 GiB)\n",
      "  1.251990 seconds (73.29 M allocations: 14.999 GiB)\n",
      "287\n",
      "  1.254053 seconds (73.33 M allocations: 15.000 GiB)\n"
     ]
    },
    {
     "name": "stdout",
     "output_type": "stream",
     "text": [
      "  4.414327 seconds (73.46 M allocations: 15.003 GiB, 70.70% gc time)\n",
      "288\n",
      "  1.232129 seconds (73.53 M allocations: 14.987 GiB)\n",
      "  1.260754 seconds (73.67 M allocations: 15.008 GiB)\n",
      "289\n",
      "  1.344491 seconds (73.77 M allocations: 15.010 GiB)\n",
      "  1.246960 seconds (73.87 M allocations: 15.013 GiB)\n",
      "290\n",
      "  1.247924 seconds (73.94 M allocations: 15.015 GiB)\n",
      "  1.236860 seconds (74.05 M allocations: 15.017 GiB)\n",
      "291\n",
      "  1.338323 seconds (74.12 M allocations: 15.019 GiB)\n",
      " 18.493341 seconds (74.28 M allocations: 15.024 GiB, 93.03% gc time)\n",
      "292\n",
      "  1.257094 seconds (74.31 M allocations: 15.024 GiB)\n",
      "  1.263519 seconds (74.43 M allocations: 15.027 GiB)\n",
      "293\n",
      "  1.244327 seconds (74.51 M allocations: 15.029 GiB)\n",
      "  1.282669 seconds (74.66 M allocations: 15.033 GiB)\n",
      "294\n",
      "  1.316913 seconds (74.73 M allocations: 15.034 GiB)\n",
      "  1.253797 seconds (74.82 M allocations: 15.037 GiB)\n",
      "295\n",
      "  1.306948 seconds (74.90 M allocations: 15.039 GiB)\n",
      " 19.522393 seconds (75.01 M allocations: 15.030 GiB, 92.87% gc time)\n",
      "296\n",
      "  1.265291 seconds (75.10 M allocations: 15.044 GiB)\n",
      "  1.254646 seconds (75.26 M allocations: 15.049 GiB)\n",
      "297\n",
      "  1.326836 seconds (75.28 M allocations: 15.048 GiB)\n",
      "  1.290061 seconds (75.41 M allocations: 15.051 GiB)\n",
      "298\n",
      "  1.336511 seconds (75.50 M allocations: 15.054 GiB)\n",
      "  1.249943 seconds (75.62 M allocations: 15.057 GiB)\n",
      "299\n",
      "  1.354293 seconds (75.69 M allocations: 15.058 GiB)\n",
      "  5.604981 seconds (75.79 M allocations: 15.061 GiB, 61.32% gc time)\n",
      "300\n",
      "  1.264493 seconds (75.85 M allocations: 15.014 GiB)\n",
      "  1.271113 seconds (75.98 M allocations: 15.066 GiB)\n",
      "301\n",
      "  1.320467 seconds (76.06 M allocations: 15.067 GiB)\n",
      "  1.255148 seconds (76.19 M allocations: 15.071 GiB)\n",
      "302\n",
      "  1.256299 seconds (76.32 M allocations: 15.075 GiB)\n",
      "  1.361963 seconds (76.40 M allocations: 15.076 GiB)\n",
      "303\n",
      "  1.316989 seconds (76.48 M allocations: 15.078 GiB)\n",
      " 18.939903 seconds (76.57 M allocations: 15.034 GiB, 93.00% gc time)\n",
      "304\n",
      "  1.264413 seconds (76.64 M allocations: 15.082 GiB)\n",
      "  1.270358 seconds (76.73 M allocations: 15.084 GiB)\n",
      "305\n",
      "  1.263742 seconds (76.81 M allocations: 15.086 GiB)\n",
      "  1.317364 seconds (76.95 M allocations: 15.090 GiB)\n",
      "306\n",
      "  1.270101 seconds (77.06 M allocations: 15.092 GiB)\n",
      "  1.320804 seconds (77.18 M allocations: 15.095 GiB)\n",
      "307\n",
      "  1.322933 seconds (77.30 M allocations: 15.099 GiB)\n",
      " 20.953850 seconds (77.36 M allocations: 15.084 GiB, 92.83% gc time)\n",
      "308\n",
      "  1.234469 seconds (77.42 M allocations: 15.101 GiB)\n",
      "  1.257422 seconds (77.52 M allocations: 15.104 GiB)\n",
      "309\n",
      "  1.259766 seconds (77.59 M allocations: 15.105 GiB)\n",
      "  1.285788 seconds (77.71 M allocations: 15.109 GiB)\n",
      "310\n",
      "  1.260880 seconds (77.80 M allocations: 15.111 GiB)\n",
      "  1.299227 seconds (77.95 M allocations: 15.115 GiB)\n",
      "311\n",
      " 18.792078 seconds (78.03 M allocations: 15.099 GiB, 92.50% gc time)\n",
      "  1.255184 seconds (78.15 M allocations: 15.120 GiB)\n",
      "312\n",
      "  1.300016 seconds (78.27 M allocations: 15.123 GiB)\n",
      "  1.247228 seconds (78.31 M allocations: 15.123 GiB)\n",
      "313\n",
      "  1.280237 seconds (78.37 M allocations: 15.125 GiB)\n",
      "  1.268715 seconds (78.48 M allocations: 15.127 GiB)\n",
      "314\n",
      "  1.362690 seconds (78.57 M allocations: 15.130 GiB)\n",
      "  1.303817 seconds (78.73 M allocations: 15.134 GiB)\n",
      "315\n",
      "  1.306923 seconds (78.82 M allocations: 15.136 GiB)\n",
      "  6.096776 seconds (78.94 M allocations: 15.139 GiB, 61.39% gc time)\n",
      "316\n",
      "  1.288489 seconds (79.02 M allocations: 15.114 GiB)\n",
      "  1.265240 seconds (79.12 M allocations: 15.144 GiB)\n",
      "317\n",
      "  1.248233 seconds (79.23 M allocations: 15.147 GiB)\n",
      "  1.248681 seconds (79.25 M allocations: 15.147 GiB)\n",
      "318\n",
      "  1.264054 seconds (79.33 M allocations: 15.149 GiB)\n",
      "  1.289299 seconds (79.49 M allocations: 15.153 GiB)\n",
      "319\n",
      "  1.352287 seconds (79.59 M allocations: 15.155 GiB)\n",
      "  4.771635 seconds (79.72 M allocations: 15.158 GiB, 73.22% gc time)\n",
      "320\n",
      "  1.295650 seconds (79.80 M allocations: 15.089 GiB)\n",
      "  1.250712 seconds (79.91 M allocations: 15.163 GiB)\n",
      "321\n",
      "  1.265626 seconds (79.98 M allocations: 15.165 GiB)\n",
      "  1.279948 seconds (80.06 M allocations: 15.167 GiB)\n",
      "322\n",
      "  1.276466 seconds (80.14 M allocations: 15.169 GiB)\n",
      "  1.304362 seconds (80.30 M allocations: 15.173 GiB)\n",
      "323\n",
      "  1.273816 seconds (80.34 M allocations: 15.174 GiB)\n",
      "  4.843065 seconds (80.50 M allocations: 15.178 GiB, 73.23% gc time)\n",
      "324\n",
      "  1.213006 seconds (80.59 M allocations: 15.163 GiB)\n",
      "  1.251105 seconds (80.69 M allocations: 15.182 GiB)\n",
      "325\n",
      "  1.256496 seconds (80.76 M allocations: 15.184 GiB)\n",
      "  1.278870 seconds (80.86 M allocations: 15.187 GiB)\n",
      "326\n",
      "  1.256608 seconds (80.92 M allocations: 15.188 GiB)\n",
      "  1.271583 seconds (81.03 M allocations: 15.191 GiB)\n",
      "327\n",
      "  1.264731 seconds (81.11 M allocations: 15.193 GiB)\n",
      "  4.877273 seconds (81.30 M allocations: 15.198 GiB, 73.42% gc time)\n",
      "328\n",
      "  1.212153 seconds (81.34 M allocations: 15.181 GiB)\n",
      "  1.259921 seconds (81.47 M allocations: 15.202 GiB)\n",
      "329\n",
      "  1.280207 seconds (81.54 M allocations: 15.203 GiB)\n",
      "  1.230497 seconds (81.65 M allocations: 15.206 GiB)\n",
      "330\n",
      "  1.263564 seconds (81.72 M allocations: 15.208 GiB)\n",
      "  1.270875 seconds (81.83 M allocations: 15.211 GiB)\n",
      "331\n",
      "  1.470133 seconds (81.89 M allocations: 15.212 GiB)\n",
      "  4.949652 seconds (82.00 M allocations: 15.215 GiB, 72.21% gc time)\n",
      "332\n",
      "  1.233427 seconds (82.10 M allocations: 15.200 GiB)\n",
      "  1.263498 seconds (82.31 M allocations: 15.224 GiB)\n",
      "333\n",
      "  1.258670 seconds (82.36 M allocations: 15.224 GiB)\n",
      "  1.290441 seconds (82.47 M allocations: 15.227 GiB)\n",
      "334\n",
      "  1.286073 seconds (82.53 M allocations: 15.228 GiB)\n",
      "  1.304675 seconds (82.62 M allocations: 15.230 GiB)\n",
      "335\n",
      "  1.265347 seconds (82.70 M allocations: 15.232 GiB)\n",
      "  4.968282 seconds (82.80 M allocations: 15.235 GiB, 73.92% gc time)\n",
      "336\n",
      "  1.242105 seconds (82.88 M allocations: 15.220 GiB)\n",
      "  1.271304 seconds (83.02 M allocations: 15.241 GiB)\n",
      "337\n",
      "  1.267675 seconds (83.11 M allocations: 15.243 GiB)\n",
      "  1.281297 seconds (83.31 M allocations: 15.248 GiB)\n",
      "338\n",
      "  1.249490 seconds (83.32 M allocations: 15.248 GiB)\n",
      "  1.283429 seconds (83.42 M allocations: 15.250 GiB)\n",
      "339\n",
      "  1.278766 seconds (83.47 M allocations: 15.252 GiB)\n",
      "  1.283092 seconds (83.61 M allocations: 15.255 GiB)\n",
      "340\n",
      "  4.935661 seconds (83.69 M allocations: 15.236 GiB, 75.38% gc time)\n",
      "  1.271173 seconds (83.81 M allocations: 15.260 GiB)\n",
      "341\n",
      "  1.256334 seconds (83.90 M allocations: 15.262 GiB)\n",
      "  1.249392 seconds (84.02 M allocations: 15.265 GiB)\n",
      "342\n",
      "  1.250070 seconds (84.11 M allocations: 15.267 GiB)\n",
      "  1.328040 seconds (84.22 M allocations: 15.270 GiB)\n",
      "343\n",
      "  1.319053 seconds (84.32 M allocations: 15.273 GiB)\n",
      "  1.267552 seconds (84.38 M allocations: 15.274 GiB)\n",
      "344\n",
      "  5.064012 seconds (84.47 M allocations: 15.257 GiB, 74.15% gc time)\n",
      "  1.270824 seconds (84.58 M allocations: 15.279 GiB)\n",
      "345\n",
      "  1.270578 seconds (84.65 M allocations: 15.281 GiB)\n",
      "  1.292707 seconds (84.81 M allocations: 15.285 GiB)\n",
      "346\n",
      "  1.336567 seconds (84.88 M allocations: 15.287 GiB)\n",
      "  1.325277 seconds (84.99 M allocations: 15.289 GiB)\n",
      "347\n",
      "  1.282109 seconds (85.06 M allocations: 15.291 GiB)\n",
      "  1.294923 seconds (85.18 M allocations: 15.294 GiB)\n",
      "348\n",
      "  5.042474 seconds (85.30 M allocations: 15.278 GiB, 75.84% gc time)\n",
      "  1.266748 seconds (85.36 M allocations: 15.298 GiB)\n",
      "349\n",
      "  1.287562 seconds (85.46 M allocations: 15.301 GiB)\n",
      "  1.279441 seconds (85.60 M allocations: 15.304 GiB)\n",
      "350\n",
      "  1.252754 seconds (85.69 M allocations: 15.307 GiB)\n",
      "  1.330868 seconds (85.77 M allocations: 15.309 GiB)\n",
      "351\n",
      "  1.344829 seconds (85.84 M allocations: 15.310 GiB)\n",
      "  1.305535 seconds (85.96 M allocations: 15.313 GiB)\n",
      "352\n",
      "  5.055682 seconds (86.05 M allocations: 15.296 GiB, 75.80% gc time)\n",
      "  1.273884 seconds (86.15 M allocations: 15.318 GiB)\n",
      "353\n",
      "  1.276769 seconds (86.27 M allocations: 15.322 GiB)\n",
      "  1.279003 seconds (86.36 M allocations: 15.323 GiB)\n",
      "354\n",
      "  1.352490 seconds (86.46 M allocations: 15.326 GiB)\n",
      "  1.307249 seconds (86.57 M allocations: 15.328 GiB)\n",
      "355\n",
      "  1.295812 seconds (86.62 M allocations: 15.330 GiB)\n",
      "  1.315197 seconds (86.73 M allocations: 15.333 GiB)\n",
      "356\n",
      "  1.875972 seconds (86.81 M allocations: 15.335 GiB)\n",
      " 26.397056 seconds (86.94 M allocations: 15.338 GiB, 91.50% gc time)\n",
      "357\n",
      "  1.308491 seconds (87.03 M allocations: 15.340 GiB)\n",
      "  1.296489 seconds (87.18 M allocations: 15.344 GiB)\n",
      "358\n",
      "  1.287545 seconds (87.32 M allocations: 15.348 GiB)\n",
      "  1.303055 seconds (87.37 M allocations: 15.348 GiB)\n",
      "359\n",
      "  1.289607 seconds (87.42 M allocations: 15.350 GiB)\n"
     ]
    },
    {
     "name": "stdout",
     "output_type": "stream",
     "text": [
      "  1.316825 seconds (87.51 M allocations: 15.352 GiB)\n",
      "360\n",
      "  1.292668 seconds (87.58 M allocations: 15.354 GiB)\n",
      "  5.511519 seconds (87.72 M allocations: 15.357 GiB, 75.51% gc time)\n",
      "361\n",
      "  1.243334 seconds (87.82 M allocations: 15.346 GiB)\n",
      "  1.326644 seconds (87.96 M allocations: 15.363 GiB)\n",
      "362\n",
      "  1.298708 seconds (88.05 M allocations: 15.365 GiB)\n",
      "  1.313130 seconds (88.19 M allocations: 15.369 GiB)\n",
      "363\n",
      "  1.314399 seconds (88.26 M allocations: 15.371 GiB)\n",
      "  1.324492 seconds (88.39 M allocations: 15.374 GiB)\n",
      "364\n",
      "  1.263894 seconds (88.38 M allocations: 15.373 GiB)\n",
      "  5.369833 seconds (88.48 M allocations: 15.376 GiB, 75.25% gc time)\n",
      "365\n",
      "  1.291342 seconds (88.57 M allocations: 15.363 GiB)\n",
      "  1.249355 seconds (88.73 M allocations: 15.382 GiB)\n",
      "366\n",
      "  1.270306 seconds (88.83 M allocations: 15.385 GiB)\n",
      "  1.268057 seconds (88.95 M allocations: 15.388 GiB)\n",
      "367\n",
      "  1.260937 seconds (89.02 M allocations: 15.389 GiB)\n",
      "  1.293679 seconds (89.13 M allocations: 15.392 GiB)\n",
      "368\n",
      "  1.274213 seconds (89.19 M allocations: 15.394 GiB)\n",
      "  1.326175 seconds (89.34 M allocations: 15.398 GiB)\n",
      "369\n",
      "  5.491691 seconds (89.36 M allocations: 15.374 GiB, 74.60% gc time)\n",
      "  1.287907 seconds (89.49 M allocations: 15.401 GiB)\n",
      "370\n",
      "  1.274660 seconds (89.60 M allocations: 15.404 GiB)\n",
      "  1.293363 seconds (89.75 M allocations: 15.407 GiB)\n",
      "371\n",
      "  1.296023 seconds (89.83 M allocations: 15.409 GiB)\n",
      "  1.377334 seconds (89.93 M allocations: 15.412 GiB)\n",
      "372\n",
      "  1.306993 seconds (89.98 M allocations: 15.413 GiB)\n",
      "  1.356271 seconds (90.09 M allocations: 15.416 GiB)\n",
      "373\n",
      " 22.509808 seconds (90.16 M allocations: 15.418 GiB, 94.30% gc time)\n",
      "  1.279272 seconds (90.33 M allocations: 15.423 GiB)\n",
      "374\n",
      "  1.362645 seconds (90.37 M allocations: 15.423 GiB)\n",
      "  1.385542 seconds (90.51 M allocations: 15.426 GiB)\n",
      "375\n",
      "  1.411007 seconds (90.59 M allocations: 15.428 GiB)\n",
      "  1.422465 seconds (90.71 M allocations: 15.431 GiB)\n",
      "376\n",
      "  1.310872 seconds (90.79 M allocations: 15.433 GiB)\n",
      "  1.330866 seconds (90.89 M allocations: 15.436 GiB)\n",
      "377\n",
      "  1.414409 seconds (90.97 M allocations: 15.438 GiB)\n",
      "  7.480238 seconds (91.09 M allocations: 15.441 GiB, 63.39% gc time)\n",
      "378\n",
      "  1.355809 seconds (91.18 M allocations: 15.391 GiB)\n",
      "  1.384413 seconds (91.35 M allocations: 15.448 GiB)\n",
      "379\n",
      "  1.419346 seconds (91.39 M allocations: 15.448 GiB)\n",
      "  1.396499 seconds (91.52 M allocations: 15.451 GiB)\n",
      "380\n",
      "  1.445896 seconds (91.58 M allocations: 15.453 GiB)\n",
      "  1.386491 seconds (91.69 M allocations: 15.456 GiB)\n",
      "381\n",
      "  1.362783 seconds (91.76 M allocations: 15.457 GiB)\n",
      "  5.795045 seconds (91.88 M allocations: 15.460 GiB, 77.08% gc time)\n",
      "382\n",
      "  1.317500 seconds (91.96 M allocations: 15.393 GiB)\n",
      "  1.306133 seconds (92.09 M allocations: 15.466 GiB)\n",
      "383\n",
      "  1.281159 seconds (92.18 M allocations: 15.468 GiB)\n",
      "  1.278799 seconds (92.31 M allocations: 15.471 GiB)\n",
      "384\n",
      "  1.341441 seconds (92.43 M allocations: 15.475 GiB)\n",
      "  1.319028 seconds (92.50 M allocations: 15.476 GiB)\n",
      "385\n",
      "  1.323136 seconds (92.58 M allocations: 15.478 GiB)\n",
      "  1.337393 seconds (92.67 M allocations: 15.480 GiB)\n",
      "386\n",
      "  5.692256 seconds (92.75 M allocations: 15.461 GiB, 78.09% gc time)\n",
      "  1.283990 seconds (92.89 M allocations: 15.485 GiB)\n",
      "387\n",
      "  1.299009 seconds (92.96 M allocations: 15.487 GiB)\n",
      "  1.290285 seconds (93.07 M allocations: 15.490 GiB)\n",
      "388\n",
      "  1.381025 seconds (93.17 M allocations: 15.492 GiB)\n",
      "  1.304003 seconds (93.31 M allocations: 15.496 GiB)\n",
      "389\n",
      "  1.385236 seconds (93.42 M allocations: 15.499 GiB)\n",
      "  1.406407 seconds (93.47 M allocations: 15.500 GiB)\n",
      "390\n",
      "  1.314359 seconds (93.55 M allocations: 15.502 GiB)\n",
      "  7.115270 seconds (93.68 M allocations: 15.505 GiB, 70.67% gc time)\n",
      "391\n",
      "  1.323504 seconds (93.75 M allocations: 15.493 GiB)\n",
      "  1.259415 seconds (93.87 M allocations: 15.510 GiB)\n",
      "392\n",
      "  1.273118 seconds (93.96 M allocations: 15.512 GiB)\n",
      "  1.253723 seconds (94.10 M allocations: 15.516 GiB)\n",
      "393\n",
      "  1.289082 seconds (94.18 M allocations: 15.517 GiB)\n",
      "  1.317035 seconds (94.28 M allocations: 15.520 GiB)\n",
      "394\n",
      "  1.268858 seconds (94.41 M allocations: 15.524 GiB)\n",
      "  5.736731 seconds (94.47 M allocations: 15.525 GiB, 77.38% gc time)\n",
      "395\n",
      "  1.237501 seconds (94.55 M allocations: 15.511 GiB)\n",
      "  1.258442 seconds (94.66 M allocations: 15.529 GiB)\n",
      "396\n",
      "  1.330313 seconds (94.73 M allocations: 15.531 GiB)\n",
      "  1.314861 seconds (94.88 M allocations: 15.535 GiB)\n",
      "397\n",
      "  1.314950 seconds (94.98 M allocations: 15.537 GiB)\n",
      "  1.311118 seconds (95.08 M allocations: 15.540 GiB)\n",
      "398\n",
      "  1.320356 seconds (95.16 M allocations: 15.542 GiB)\n",
      "  1.397164 seconds (95.28 M allocations: 15.545 GiB)\n",
      "399\n",
      " 22.772346 seconds (95.34 M allocations: 15.547 GiB, 94.53% gc time)\n",
      "  1.279294 seconds (95.49 M allocations: 15.551 GiB)\n",
      "400\n",
      "  1.293920 seconds (95.52 M allocations: 15.551 GiB)\n",
      "  1.278659 seconds (95.65 M allocations: 15.554 GiB)\n",
      "1524.118818 seconds (45.87 G allocations: 11.404 TiB, 30.30% gc time, 0.00% compilation time)\n"
     ]
    }
   ],
   "source": [
    "savepath=\"/data/yanagimotor/thesis/mps/gaussian-pulsed-PDC-n_b=\"*string(n_b)*\"_chi=\"*string(χ)*\"_nt=\"*string(nt)*\"_mmax=\"*string(mmax)*\"_σ=\"*string(σ)*\"_tmax=\"*string(tmax)*\"_beta=\"*string(β)*\"_L=\"*string(L)*\"_Delta=\"*string(Δ)*\"_nhalf=\"*string(n_half)*\".jld\"\n",
    "@time simulate_pdc(param_set,savepath);"
   ]
  },
  {
   "cell_type": "code",
   "execution_count": 11,
   "metadata": {},
   "outputs": [],
   "source": [
    "path_list = [\n",
    "    \"/data/yanagimotor/thesis/mps/gaussian-pulsed-PDC-n_b=0.01_chi=60_nt=400_mmax=4_σ=1.0_tmax=2.0_beta=0.5_L=12.0_Delta=1.9n_half=300.jld\",\n",
    "    \"/data/yanagimotor/thesis/mps/gaussian-pulsed-PDC-n_b=0.1_chi=60_nt=400_mmax=4_σ=1.0_tmax=2.0_beta=0.5_L=12.0_Delta=1.9n_half=300.jld\",\n",
    "#     \"/data/yanagimotor/thesis/mps/gaussian-pulsed-PDC-n_b=0.3_chi=60_nt=400_mmax=4_σ=1.0_tmax=2.0_beta=0.5_L=12.0_Delta=1.9n_half=300.jld\",\n",
    "    \"/data/yanagimotor/thesis/mps/gaussian-pulsed-PDC-n_b=1.0_chi=100_nt=400_mmax=4_σ=1.0_tmax=2.0_beta=0.5_L=12.0_Delta=1.9n_half=300.jld\",\n",
    "    \"/data/yanagimotor/thesis/mps/gaussian-pulsed-PDC-n_b=3.0_chi=200_nt=400_mmax=4_σ=1.0_tmax=2.0_beta=0.5_L=12.0_Delta=1.9n_half=300.jld\"\n",
    "]\n",
    "\n",
    "namat_list = Array{Matrix{Float64}}(undef,length(path_list))\n",
    "nbmat_list = Array{Matrix{Float64}}(undef,length(path_list))\n",
    "zlist_list = Array{Vector{Float64}}(undef,length(path_list))\n",
    "tlist_list = Array{Vector{Float64}}(undef,length(path_list))\n",
    "nb0_list = zeros(length(path_list))\n",
    "\n",
    "for (i,path) in enumerate(path_list)\n",
    "    d = load(path)\n",
    "    param_set = d[\"param_set\"]\n",
    "    g1set_a = d[\"g1set_a\"]\n",
    "    g1set_b = d[\"g1set_b\"]\n",
    "    tlist = vcat([0],param_set[\"saveat\"].*param_set[\"tmax\"]./param_set[\"nt\"]);\n",
    "    zlist = param_set[\"zlist\"];\n",
    "    α_b = param_set[\"α_b\"]\n",
    "    flist_b = param_set[\"flist_b\"]\n",
    "    nb0_list[i] = param_set[\"n_b\"]\n",
    "    \n",
    "    tlist_list[i] = tlist\n",
    "    zlist_list[i] = zlist\n",
    "    \n",
    "    g1set_a = vcat([zeros(length(zlist))],g1set_a)\n",
    "    g1set_b = vcat([abs2.(α_b.*flist_b)[2:2:end]],g1set_b)\n",
    "    \n",
    "    namat = zeros(length(tlist),length(zlist))\n",
    "    nbmat = zeros(length(tlist),length(zlist))\n",
    "    \n",
    "    for (ti,t) in enumerate(tlist)\n",
    "        for (zi,z) in enumerate(zlist)\n",
    "            namat[ti,zi] = real(g1set_a[ti][zi])\n",
    "            nbmat[ti,zi] = real(g1set_b[ti][zi])\n",
    "        end\n",
    "    end\n",
    "    \n",
    "    namat_list[i] = namat\n",
    "    nbmat_list[i] = nbmat\n",
    "    \n",
    "end"
   ]
  },
  {
   "cell_type": "code",
   "execution_count": 12,
   "metadata": {},
   "outputs": [
    {
     "data": {
      "image/png": "[encoded data removed]",
      "text/plain": [
       "Figure(PyObject <Figure size 640x480 with 1 Axes>)"
      ]
     },
     "metadata": {},
     "output_type": "display_data"
    },
    {
     "data": {
      "image/png": "[encoded data removed]",
      "text/plain": [
       "Figure(PyObject <Figure size 640x480 with 1 Axes>)"
      ]
     },
     "metadata": {},
     "output_type": "display_data"
    },
    {
     "data": {
      "image/png": "[encoded data removed]",
      "text/plain": [
       "Figure(PyObject <Figure size 640x480 with 1 Axes>)"
      ]
     },
     "metadata": {},
     "output_type": "display_data"
    },
    {
     "data": {
      "image/png": "[encoded data removed]",
      "text/plain": [
       "Figure(PyObject <Figure size 640x480 with 1 Axes>)"
      ]
     },
     "metadata": {},
     "output_type": "display_data"
    }
   ],
   "source": [
    "for (nb0i,nb0) in enumerate(nb0_list)\n",
    "#     plot(tlist_list[nb0i],sum(namat_list[nb0i],dims=2)./2 ./nb0,label=L\"$n_b=\"*string(nb0)*L\"$\")\n",
    "    pcolormesh(zlist_list[nb0i],tlist_list[nb0i],nbmat_list[nb0i],cmap=\"turbo\")\n",
    "    figure()\n",
    "end\n"
   ]
  },
  {
   "cell_type": "code",
   "execution_count": 19,
   "metadata": {},
   "outputs": [
    {
     "ename": "LoadError",
     "evalue": "UndefVarError: nb0_list not defined",
     "output_type": "error",
     "traceback": [
      "UndefVarError: nb0_list not defined",
      "",
      "Stacktrace:",
      " [1] top-level scope",
      "   @ ./In[19]:1",
      " [2] eval",
      "   @ ./boot.jl:373 [inlined]",
      " [3] include_string(mapexpr::typeof(REPL.softscope), mod::Module, code::String, filename::String)",
      "   @ Base ./loading.jl:1196"
     ]
    }
   ],
   "source": [
    "for (nb0i,nb0) in enumerate(nb0_list)\n",
    "    plot(tlist_list[nb0i],sum(namat_list[nb0i],dims=2)./2 ./nb0,label=L\"$n_b=\"*string(nb0)*L\"$\")\n",
    "end\n",
    "\n",
    "plot(tlist_list[1],1 .-broadband_pump.(1.9,tlist_list[1]),\"--\",label=\"Single-photon-pumped PDC\")\n",
    "legend()\n",
    "xlabel(\"Time\")\n",
    "ylabel(\"Conversion efficiency\")"
   ]
  },
  {
   "cell_type": "code",
   "execution_count": 22,
   "metadata": {},
   "outputs": [],
   "source": [
    "d = load(savepath)\n",
    "g1set_a = d[\"g1set_a\"]\n",
    "g1set_b = d[\"g1set_b\"]\n",
    "norm_list = d[\"norm_list\"]\n",
    "param_set = d[\"param_set\"]\n",
    "nalist = [sum(ls) for ls in g1set_a];\n",
    "nblist = [sum(ls) for ls in g1set_b];\n",
    "tlist = param_set[\"saveat\"].*param_set[\"tmax\"]./param_set[\"nt\"];\n",
    "zlist = param_set[\"zlist\"];\n",
    "\n",
    "namat = zeros(length(tlist),length(zlist))\n",
    "nbmat = zeros(length(tlist),length(zlist))\n",
    "for (ti,t) in enumerate(tlist)\n",
    "    for (zi,z) in enumerate(zlist)\n",
    "        namat[ti,zi] = real(g1set_a[ti][zi])\n",
    "        nbmat[ti,zi] = real(g1set_b[ti][zi])\n",
    "    end\n",
    "end\n"
   ]
  },
  {
   "cell_type": "code",
   "execution_count": 23,
   "metadata": {},
   "outputs": [
    {
     "data": {
      "image/png": "[encoded data removed]",
      "text/plain": [
       "Figure(PyObject <Figure size 640x480 with 1 Axes>)"
      ]
     },
     "metadata": {},
     "output_type": "display_data"
    },
    {
     "data": {
      "image/png": "[encoded data removed]",
      "text/plain": [
       "Figure(PyObject <Figure size 640x480 with 1 Axes>)"
      ]
     },
     "metadata": {},
     "output_type": "display_data"
    },
    {
     "data": {
      "text/plain": [
       "PyObject <matplotlib.collections.QuadMesh object at 0x7f11e746c820>"
      ]
     },
     "execution_count": 23,
     "metadata": {},
     "output_type": "execute_result"
    }
   ],
   "source": [
    "pcolormesh(zlist,tlist,namat,cmap=\"Reds\")\n",
    "xlim(-2,2)\n",
    "figure()\n",
    "pcolormesh(zlist,tlist,nbmat,cmap=\"turbo\")"
   ]
  },
  {
   "cell_type": "code",
   "execution_count": 24,
   "metadata": {},
   "outputs": [
    {
     "data": {
      "image/png": "[encoded data removed]",
      "text/plain": [
       "Figure(PyObject <Figure size 640x480 with 1 Axes>)"
      ]
     },
     "metadata": {},
     "output_type": "display_data"
    },
    {
     "data": {
      "image/png": "[encoded data removed]",
      "text/plain": [
       "Figure(PyObject <Figure size 640x480 with 1 Axes>)"
      ]
     },
     "metadata": {},
     "output_type": "display_data"
    },
    {
     "data": {
      "text/plain": [
       "PyObject <matplotlib.collections.QuadMesh object at 0x7f11ede6c190>"
      ]
     },
     "execution_count": 24,
     "metadata": {},
     "output_type": "execute_result"
    }
   ],
   "source": [
    "pcolormesh(zlist,tlist,namat,cmap=\"turbo\")\n",
    "figure()\n",
    "pcolormesh(zlist,tlist,nbmat,cmap=\"turbo\")"
   ]
  },
  {
   "cell_type": "code",
   "execution_count": 25,
   "metadata": {},
   "outputs": [
    {
     "data": {
      "image/png": "[encoded data removed]",
      "text/plain": [
       "Figure(PyObject <Figure size 640x480 with 1 Axes>)"
      ]
     },
     "metadata": {},
     "output_type": "display_data"
    }
   ],
   "source": [
    "\n",
    "\n",
    "\n",
    "figure()\n",
    "\n",
    "for g1 in g1set_b\n",
    "    plot(zlist,real.(g1))\n",
    "end"
   ]
  },
  {
   "cell_type": "code",
   "execution_count": 26,
   "metadata": {},
   "outputs": [
    {
     "data": {
      "image/png": "[encoded data removed]",
      "text/plain": [
       "Figure(PyObject <Figure size 640x480 with 1 Axes>)"
      ]
     },
     "metadata": {},
     "output_type": "display_data"
    },
    {
     "data": {
      "text/plain": [
       "1-element Vector{PyObject}:\n",
       " PyObject <matplotlib.lines.Line2D object at 0x7f11edf0d8b0>"
      ]
     },
     "execution_count": 26,
     "metadata": {},
     "output_type": "execute_result"
    }
   ],
   "source": [
    "plot(tlist,1 .-(nalist./2 .+nblist)./param_set[\"n_b\"])\n",
    "plot(tlist,1 .-norm_list)\n",
    "# ylim(0,1.0)"
   ]
  },
  {
   "cell_type": "code",
   "execution_count": 27,
   "metadata": {},
   "outputs": [
    {
     "data": {
      "image/png": "[encoded data removed]",
      "text/plain": [
       "Figure(PyObject <Figure size 640x480 with 1 Axes>)"
      ]
     },
     "metadata": {},
     "output_type": "display_data"
    },
    {
     "data": {
      "text/plain": [
       "1-element Vector{PyObject}:\n",
       " PyObject <matplotlib.lines.Line2D object at 0x7f11ee1b4700>"
      ]
     },
     "execution_count": 27,
     "metadata": {},
     "output_type": "execute_result"
    }
   ],
   "source": [
    "plot(tlist,nalist./2 ./param_set[\"n_b\"])\n",
    "plot(tlist,1 .-broadband_pump.(Δ,tlist))\n"
   ]
  },
  {
   "cell_type": "code",
   "execution_count": 15,
   "metadata": {},
   "outputs": [
    {
     "data": {
      "text/plain": [
       "20-element Vector{Float64}:\n",
       " 0.1\n",
       " 0.2\n",
       " 0.3\n",
       " 0.4\n",
       " 0.5\n",
       " 0.6\n",
       " 0.7\n",
       " 0.8\n",
       " 0.9\n",
       " 1.0\n",
       " 1.1\n",
       " 1.2\n",
       " 1.3\n",
       " 1.4\n",
       " 1.5\n",
       " 1.6\n",
       " 1.7\n",
       " 1.8\n",
       " 1.9\n",
       " 2.0"
      ]
     },
     "execution_count": 15,
     "metadata": {},
     "output_type": "execute_result"
    }
   ],
   "source": [
    "tlist"
   ]
  },
  {
   "cell_type": "code",
   "execution_count": 17,
   "metadata": {},
   "outputs": [
    {
     "data": {
      "text/plain": [
       "\"/data/yanagimotor/thesis/mps/gaussian-pulsed-PDC-n_b=1.0_chi=200_nt=400_mmax=4_σ=0.2_tmax=2.8_beta=0.5_L=8.0_Delta=1.9_nhalf=300.jld\""
      ]
     },
     "execution_count": 17,
     "metadata": {},
     "output_type": "execute_result"
    }
   ],
   "source": [
    "savepath "
   ]
  },
  {
   "cell_type": "code",
   "execution_count": 21,
   "metadata": {},
   "outputs": [
    {
     "data": {
      "text/plain": [
       "\"/data/yanagimotor/thesis/mps/gaussian-pulsed-PDC-n_b=0.02_chi=60_nt=400_mmax=4_σ=0.2_tmax=2.8_beta=0.5_L=8.0_Delta=1.9_nhalf=300.jld\""
      ]
     },
     "execution_count": 21,
     "metadata": {},
     "output_type": "execute_result"
    }
   ],
   "source": [
    "savepath "
   ]
  },
  {
   "cell_type": "code",
   "execution_count": null,
   "metadata": {},
   "outputs": [],
   "source": []
  }
 ],
 "metadata": {
  "kernelspec": {
   "display_name": "Julia 1.9.0",
   "language": "julia",
   "name": "julia-1.9"
  },
  "language_info": {
   "file_extension": ".jl",
   "mimetype": "application/julia",
   "name": "julia",
   "version": "1.9.0"
  }
 },
 "nbformat": 4,
 "nbformat_minor": 2
}
